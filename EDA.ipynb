{
 "cells": [
  {
   "cell_type": "markdown",
   "id": "872ee34f",
   "metadata": {},
   "source": [
    "## EDA"
   ]
  },
  {
   "cell_type": "code",
   "execution_count": 2,
   "id": "54f1242d",
   "metadata": {},
   "outputs": [],
   "source": [
    "import pandas as pd\n",
    "import seaborn as sns\n",
    "sns.set()                            # permite setear parámetros de estilo en los gráficos\n",
    "import matplotlib.pyplot as plt\n",
    "from scipy.stats.mstats import winsorize"
   ]
  },
  {
   "cell_type": "code",
   "execution_count": 3,
   "id": "f7c116db",
   "metadata": {},
   "outputs": [],
   "source": [
    "from sklearn.preprocessing import OneHotEncoder\n",
    "from sklearn.compose import make_column_transformer"
   ]
  },
  {
   "cell_type": "code",
   "execution_count": 4,
   "id": "f5b7ba05",
   "metadata": {},
   "outputs": [],
   "source": [
    "dfn = pd.read_parquet('dataSets\\\\train.parquet')"
   ]
  },
  {
   "cell_type": "code",
   "execution_count": 5,
   "id": "3a21de7a",
   "metadata": {},
   "outputs": [
    {
     "data": {
      "text/html": [
       "<div>\n",
       "<style scoped>\n",
       "    .dataframe tbody tr th:only-of-type {\n",
       "        vertical-align: middle;\n",
       "    }\n",
       "\n",
       "    .dataframe tbody tr th {\n",
       "        vertical-align: top;\n",
       "    }\n",
       "\n",
       "    .dataframe thead th {\n",
       "        text-align: right;\n",
       "    }\n",
       "</style>\n",
       "<table border=\"1\" class=\"dataframe\">\n",
       "  <thead>\n",
       "    <tr style=\"text-align: right;\">\n",
       "      <th></th>\n",
       "      <th>id</th>\n",
       "      <th>url</th>\n",
       "      <th>region</th>\n",
       "      <th>region_url</th>\n",
       "      <th>price</th>\n",
       "      <th>type</th>\n",
       "      <th>sqfeet</th>\n",
       "      <th>beds</th>\n",
       "      <th>baths</th>\n",
       "      <th>cats_allowed</th>\n",
       "      <th>...</th>\n",
       "      <th>wheelchair_access</th>\n",
       "      <th>electric_vehicle_charge</th>\n",
       "      <th>comes_furnished</th>\n",
       "      <th>laundry_options</th>\n",
       "      <th>parking_options</th>\n",
       "      <th>image_url</th>\n",
       "      <th>description</th>\n",
       "      <th>lat</th>\n",
       "      <th>long</th>\n",
       "      <th>state</th>\n",
       "    </tr>\n",
       "  </thead>\n",
       "  <tbody>\n",
       "    <tr>\n",
       "      <th>0</th>\n",
       "      <td>7048013474</td>\n",
       "      <td>https://boise.craigslist.org/apa/d/very-nice-b...</td>\n",
       "      <td>boise</td>\n",
       "      <td>https://boise.craigslist.org</td>\n",
       "      <td>1350</td>\n",
       "      <td>house</td>\n",
       "      <td>1200</td>\n",
       "      <td>2</td>\n",
       "      <td>2.0</td>\n",
       "      <td>1</td>\n",
       "      <td>...</td>\n",
       "      <td>0</td>\n",
       "      <td>0</td>\n",
       "      <td>0</td>\n",
       "      <td>w/d in unit</td>\n",
       "      <td>detached garage</td>\n",
       "      <td>https://images.craigslist.org/00B0B_cPiJMEheZe...</td>\n",
       "      <td>Super cute row house in the Boise bench area. ...</td>\n",
       "      <td>43.5851</td>\n",
       "      <td>-116.2250</td>\n",
       "      <td>id</td>\n",
       "    </tr>\n",
       "    <tr>\n",
       "      <th>1</th>\n",
       "      <td>7043931179</td>\n",
       "      <td>https://cosprings.craigslist.org/apa/d/colorad...</td>\n",
       "      <td>colorado springs</td>\n",
       "      <td>https://cosprings.craigslist.org</td>\n",
       "      <td>1115</td>\n",
       "      <td>apartment</td>\n",
       "      <td>694</td>\n",
       "      <td>1</td>\n",
       "      <td>1.0</td>\n",
       "      <td>1</td>\n",
       "      <td>...</td>\n",
       "      <td>0</td>\n",
       "      <td>0</td>\n",
       "      <td>0</td>\n",
       "      <td>w/d in unit</td>\n",
       "      <td>carport</td>\n",
       "      <td>https://images.craigslist.org/00R0R_5XAoSKvfrz...</td>\n",
       "      <td>Windtree Apartment Homes currently has a spaci...</td>\n",
       "      <td>38.9137</td>\n",
       "      <td>-104.7800</td>\n",
       "      <td>co</td>\n",
       "    </tr>\n",
       "    <tr>\n",
       "      <th>2</th>\n",
       "      <td>7048254516</td>\n",
       "      <td>https://norfolk.craigslist.org/apa/d/virginia-...</td>\n",
       "      <td>norfolk / hampton roads</td>\n",
       "      <td>https://norfolk.craigslist.org</td>\n",
       "      <td>1129</td>\n",
       "      <td>apartment</td>\n",
       "      <td>900</td>\n",
       "      <td>2</td>\n",
       "      <td>2.0</td>\n",
       "      <td>0</td>\n",
       "      <td>...</td>\n",
       "      <td>0</td>\n",
       "      <td>0</td>\n",
       "      <td>0</td>\n",
       "      <td>w/d hookups</td>\n",
       "      <td>off-street parking</td>\n",
       "      <td>https://images.craigslist.org/00f0f_3ZbTFrsHpZ...</td>\n",
       "      <td>Call Today!  show contact info   Indian Lakes ...</td>\n",
       "      <td>36.7922</td>\n",
       "      <td>-76.1643</td>\n",
       "      <td>va</td>\n",
       "    </tr>\n",
       "    <tr>\n",
       "      <th>3</th>\n",
       "      <td>7041032577</td>\n",
       "      <td>https://phoenix.craigslist.org/nph/apa/d/phoen...</td>\n",
       "      <td>phoenix</td>\n",
       "      <td>https://phoenix.craigslist.org</td>\n",
       "      <td>1580</td>\n",
       "      <td>house</td>\n",
       "      <td>1469</td>\n",
       "      <td>3</td>\n",
       "      <td>2.0</td>\n",
       "      <td>1</td>\n",
       "      <td>...</td>\n",
       "      <td>0</td>\n",
       "      <td>0</td>\n",
       "      <td>0</td>\n",
       "      <td>w/d in unit</td>\n",
       "      <td>None</td>\n",
       "      <td>https://images.craigslist.org/00f0f_aXV5Dkd5qk...</td>\n",
       "      <td>Cody Anderson Two Brothers Realty License #: S...</td>\n",
       "      <td>33.5623</td>\n",
       "      <td>-112.0560</td>\n",
       "      <td>az</td>\n",
       "    </tr>\n",
       "    <tr>\n",
       "      <th>4</th>\n",
       "      <td>7048588701</td>\n",
       "      <td>https://nashville.craigslist.org/apa/d/antioch...</td>\n",
       "      <td>nashville</td>\n",
       "      <td>https://nashville.craigslist.org</td>\n",
       "      <td>995</td>\n",
       "      <td>apartment</td>\n",
       "      <td>700</td>\n",
       "      <td>1</td>\n",
       "      <td>1.0</td>\n",
       "      <td>1</td>\n",
       "      <td>...</td>\n",
       "      <td>0</td>\n",
       "      <td>0</td>\n",
       "      <td>0</td>\n",
       "      <td>w/d in unit</td>\n",
       "      <td>carport</td>\n",
       "      <td>https://images.craigslist.org/00606_gYOGKClOHv...</td>\n",
       "      <td>To schedule a tour We now book our tour appoin...</td>\n",
       "      <td>36.0595</td>\n",
       "      <td>-86.6592</td>\n",
       "      <td>tn</td>\n",
       "    </tr>\n",
       "  </tbody>\n",
       "</table>\n",
       "<p>5 rows × 22 columns</p>\n",
       "</div>"
      ],
      "text/plain": [
       "           id                                                url  \\\n",
       "0  7048013474  https://boise.craigslist.org/apa/d/very-nice-b...   \n",
       "1  7043931179  https://cosprings.craigslist.org/apa/d/colorad...   \n",
       "2  7048254516  https://norfolk.craigslist.org/apa/d/virginia-...   \n",
       "3  7041032577  https://phoenix.craigslist.org/nph/apa/d/phoen...   \n",
       "4  7048588701  https://nashville.craigslist.org/apa/d/antioch...   \n",
       "\n",
       "                    region                        region_url  price  \\\n",
       "0                    boise      https://boise.craigslist.org   1350   \n",
       "1         colorado springs  https://cosprings.craigslist.org   1115   \n",
       "2  norfolk / hampton roads    https://norfolk.craigslist.org   1129   \n",
       "3                  phoenix    https://phoenix.craigslist.org   1580   \n",
       "4                nashville  https://nashville.craigslist.org    995   \n",
       "\n",
       "        type  sqfeet  beds  baths  cats_allowed  ...  wheelchair_access  \\\n",
       "0      house    1200     2    2.0             1  ...                  0   \n",
       "1  apartment     694     1    1.0             1  ...                  0   \n",
       "2  apartment     900     2    2.0             0  ...                  0   \n",
       "3      house    1469     3    2.0             1  ...                  0   \n",
       "4  apartment     700     1    1.0             1  ...                  0   \n",
       "\n",
       "   electric_vehicle_charge  comes_furnished  laundry_options  \\\n",
       "0                        0                0      w/d in unit   \n",
       "1                        0                0      w/d in unit   \n",
       "2                        0                0      w/d hookups   \n",
       "3                        0                0      w/d in unit   \n",
       "4                        0                0      w/d in unit   \n",
       "\n",
       "      parking_options                                          image_url  \\\n",
       "0     detached garage  https://images.craigslist.org/00B0B_cPiJMEheZe...   \n",
       "1             carport  https://images.craigslist.org/00R0R_5XAoSKvfrz...   \n",
       "2  off-street parking  https://images.craigslist.org/00f0f_3ZbTFrsHpZ...   \n",
       "3                None  https://images.craigslist.org/00f0f_aXV5Dkd5qk...   \n",
       "4             carport  https://images.craigslist.org/00606_gYOGKClOHv...   \n",
       "\n",
       "                                         description      lat      long  state  \n",
       "0  Super cute row house in the Boise bench area. ...  43.5851 -116.2250     id  \n",
       "1  Windtree Apartment Homes currently has a spaci...  38.9137 -104.7800     co  \n",
       "2  Call Today!  show contact info   Indian Lakes ...  36.7922  -76.1643     va  \n",
       "3  Cody Anderson Two Brothers Realty License #: S...  33.5623 -112.0560     az  \n",
       "4  To schedule a tour We now book our tour appoin...  36.0595  -86.6592     tn  \n",
       "\n",
       "[5 rows x 22 columns]"
      ]
     },
     "execution_count": 5,
     "metadata": {},
     "output_type": "execute_result"
    }
   ],
   "source": [
    "dfn.head()"
   ]
  },
  {
   "cell_type": "code",
   "execution_count": 6,
   "id": "9de2b370",
   "metadata": {},
   "outputs": [
    {
     "name": "stdout",
     "output_type": "stream",
     "text": [
      "<class 'pandas.core.frame.DataFrame'>\n",
      "RangeIndex: 346479 entries, 0 to 346478\n",
      "Data columns (total 22 columns):\n",
      " #   Column                   Non-Null Count   Dtype  \n",
      "---  ------                   --------------   -----  \n",
      " 0   id                       346479 non-null  int64  \n",
      " 1   url                      346479 non-null  object \n",
      " 2   region                   346479 non-null  object \n",
      " 3   region_url               346479 non-null  object \n",
      " 4   price                    346479 non-null  int64  \n",
      " 5   type                     346479 non-null  object \n",
      " 6   sqfeet                   346479 non-null  int64  \n",
      " 7   beds                     346479 non-null  int64  \n",
      " 8   baths                    346479 non-null  float64\n",
      " 9   cats_allowed             346479 non-null  int64  \n",
      " 10  dogs_allowed             346479 non-null  int64  \n",
      " 11  smoking_allowed          346479 non-null  int64  \n",
      " 12  wheelchair_access        346479 non-null  int64  \n",
      " 13  electric_vehicle_charge  346479 non-null  int64  \n",
      " 14  comes_furnished          346479 non-null  int64  \n",
      " 15  laundry_options          275308 non-null  object \n",
      " 16  parking_options          219797 non-null  object \n",
      " 17  image_url                346479 non-null  object \n",
      " 18  description              346477 non-null  object \n",
      " 19  lat                      344757 non-null  float64\n",
      " 20  long                     344757 non-null  float64\n",
      " 21  state                    346479 non-null  object \n",
      "dtypes: float64(3), int64(10), object(9)\n",
      "memory usage: 58.2+ MB\n"
     ]
    }
   ],
   "source": [
    "dfn.info()"
   ]
  },
  {
   "cell_type": "markdown",
   "id": "0dc3b4d0",
   "metadata": {},
   "source": [
    "### Chequeo y tratamiento de valores nulos "
   ]
  },
  {
   "cell_type": "markdown",
   "id": "cb4cc683",
   "metadata": {},
   "source": [
    "La función de abajo recorre el dataframe, suma los valores faltantes en cada campo. Por último, devuelve el porcentaje de nulos en cada columna."
   ]
  },
  {
   "cell_type": "code",
   "execution_count": 7,
   "id": "84704747",
   "metadata": {},
   "outputs": [],
   "source": [
    "def get_nan_in_df(dataFrame):\n",
    "    # contabilizar los valores nulos en cada columna del data frame, organizarlas por cantidad de nulos.\n",
    "    nanValues = dataFrame.isna().sum().sort_values(ascending=False)\n",
    "    # calcular ese número en porcentaje\n",
    "    nanValuesPrct = (nanValues/len(dataFrame) )*100\n",
    "    \n",
    "    return nanValuesPrct"
   ]
  },
  {
   "cell_type": "code",
   "execution_count": 8,
   "id": "39b29c31",
   "metadata": {},
   "outputs": [
    {
     "data": {
      "text/plain": [
       "parking_options            36.562678\n",
       "laundry_options            20.541216\n",
       "long                        0.497000\n",
       "lat                         0.497000\n",
       "description                 0.000577\n",
       "id                          0.000000\n",
       "url                         0.000000\n",
       "image_url                   0.000000\n",
       "comes_furnished             0.000000\n",
       "electric_vehicle_charge     0.000000\n",
       "wheelchair_access           0.000000\n",
       "smoking_allowed             0.000000\n",
       "dogs_allowed                0.000000\n",
       "cats_allowed                0.000000\n",
       "baths                       0.000000\n",
       "beds                        0.000000\n",
       "sqfeet                      0.000000\n",
       "type                        0.000000\n",
       "price                       0.000000\n",
       "region_url                  0.000000\n",
       "region                      0.000000\n",
       "state                       0.000000\n",
       "dtype: float64"
      ]
     },
     "execution_count": 8,
     "metadata": {},
     "output_type": "execute_result"
    }
   ],
   "source": [
    "get_nan_in_df(dfn)"
   ]
  },
  {
   "cell_type": "markdown",
   "id": "b39f61ad",
   "metadata": {},
   "source": [
    "Debido al alto porcentaje de valores nulos en las columnas 'parking_options' y 'laundry_options', 36.6% y 20.54% respectivamente, vamos a eliminar estas dos columnas"
   ]
  },
  {
   "cell_type": "code",
   "execution_count": 9,
   "id": "d9126b28",
   "metadata": {},
   "outputs": [],
   "source": [
    "dfn.drop(columns = ['parking_options', 'laundry_options'], inplace=True)"
   ]
  },
  {
   "cell_type": "markdown",
   "id": "792bddca",
   "metadata": {},
   "source": [
    "Ahora, que no quedan columnas con alto porcentaje de valores nulos, eliminemos los valores faltantes por fila."
   ]
  },
  {
   "cell_type": "code",
   "execution_count": 10,
   "id": "3de043fd",
   "metadata": {},
   "outputs": [],
   "source": [
    "dfn = dfn[dfn.long.isna() == False]"
   ]
  },
  {
   "cell_type": "code",
   "execution_count": 11,
   "id": "8bc6267e",
   "metadata": {},
   "outputs": [],
   "source": [
    "#get_nan_in_df(dfn)"
   ]
  },
  {
   "cell_type": "markdown",
   "id": "414ce787",
   "metadata": {},
   "source": [
    "Parece que los campos 'long' y 'lat' tenían valores nulos exactamente en los mismos registros. Solo quedan valores faltantes en la columna 'description' que es un campo que eliminaremos más tarde."
   ]
  },
  {
   "cell_type": "markdown",
   "id": "be71ecfe",
   "metadata": {},
   "source": [
    "### Eliminar campos irrelevantes"
   ]
  },
  {
   "cell_type": "markdown",
   "id": "d4f6e7e3",
   "metadata": {},
   "source": [
    "Vamos a eliminar los campos 'image_url' y 'url' debido a que consideramos que no podemos obtener datos adicionales relevantes de estas direcciones.\n",
    "Sin embargo, vamos a mantener el campo 'region_url' dado que podría ayudarnos en caso de que los datos en la columna 'region' sean ambigüos. Por otra parte, no guarda ninguna información del inmueble más que su código de identificación, por lo tanto también será eliminado."
   ]
  },
  {
   "cell_type": "code",
   "execution_count": 12,
   "id": "d86ef2b4",
   "metadata": {},
   "outputs": [],
   "source": [
    "dfn.drop(columns = ['url','image_url','id'], inplace=True)"
   ]
  },
  {
   "cell_type": "markdown",
   "id": "20f8bd9b",
   "metadata": {},
   "source": [
    "### Normalización de las columnas de texto"
   ]
  },
  {
   "cell_type": "code",
   "execution_count": 13,
   "id": "f4ef9e9e",
   "metadata": {},
   "outputs": [],
   "source": [
    "# Lista basada en string.punctuation\n",
    "punctuation = ['!','\"','#','$','~','%','&','\\'','(',')','*','+',',','-','.','/',':',';',\n",
    "               '<','=','>','?','@','[','\\\\',']','^','_','`','{','|','}']"
   ]
  },
  {
   "cell_type": "code",
   "execution_count": 14,
   "id": "a7e9eaf3",
   "metadata": {},
   "outputs": [],
   "source": [
    "def find_punctuation(a_string):\n",
    "    for element in punctuation:\n",
    "            if element in a_string:\n",
    "                return True\n",
    "    return False       "
   ]
  },
  {
   "cell_type": "code",
   "execution_count": 15,
   "id": "c743ed3b",
   "metadata": {},
   "outputs": [],
   "source": [
    "# buscar puntuación en el campo region\n",
    "dfPunt = dfn[dfn.region.apply(find_punctuation)]"
   ]
  },
  {
   "cell_type": "markdown",
   "id": "9c0f5203",
   "metadata": {},
   "source": [
    "'region' tiene nombres separados por barras, posiblemente el segundo nombre sea de un barrio dentro de la ciudad"
   ]
  },
  {
   "cell_type": "code",
   "execution_count": 16,
   "id": "9f868d07",
   "metadata": {},
   "outputs": [],
   "source": [
    "#dfPunt "
   ]
  },
  {
   "cell_type": "code",
   "execution_count": 17,
   "id": "4a164927",
   "metadata": {},
   "outputs": [],
   "source": [
    "def limpiar_url(url):\n",
    "    url = url.replace('https://','')\n",
    "    url = url.split('.')[0]\n",
    "    return url"
   ]
  },
  {
   "cell_type": "code",
   "execution_count": 18,
   "id": "e7868769",
   "metadata": {},
   "outputs": [],
   "source": [
    "dfn.region_url = dfn.region_url.apply(limpiar_url)"
   ]
  },
  {
   "cell_type": "code",
   "execution_count": 19,
   "id": "9f1f3ec2",
   "metadata": {},
   "outputs": [],
   "source": [
    "region_url = dfn.region_url.value_counts().reset_index()"
   ]
  },
  {
   "cell_type": "code",
   "execution_count": 20,
   "id": "2de67264",
   "metadata": {},
   "outputs": [],
   "source": [
    "#region_url"
   ]
  },
  {
   "cell_type": "code",
   "execution_count": 21,
   "id": "0bfddb5f",
   "metadata": {},
   "outputs": [],
   "source": [
    "dfPunt = dfn[dfn.region_url.apply(find_punctuation)]"
   ]
  },
  {
   "cell_type": "code",
   "execution_count": 22,
   "id": "a246e8a8",
   "metadata": {},
   "outputs": [
    {
     "data": {
      "text/html": [
       "<div>\n",
       "<style scoped>\n",
       "    .dataframe tbody tr th:only-of-type {\n",
       "        vertical-align: middle;\n",
       "    }\n",
       "\n",
       "    .dataframe tbody tr th {\n",
       "        vertical-align: top;\n",
       "    }\n",
       "\n",
       "    .dataframe thead th {\n",
       "        text-align: right;\n",
       "    }\n",
       "</style>\n",
       "<table border=\"1\" class=\"dataframe\">\n",
       "  <thead>\n",
       "    <tr style=\"text-align: right;\">\n",
       "      <th></th>\n",
       "      <th>region</th>\n",
       "      <th>region_url</th>\n",
       "      <th>price</th>\n",
       "      <th>type</th>\n",
       "      <th>sqfeet</th>\n",
       "      <th>beds</th>\n",
       "      <th>baths</th>\n",
       "      <th>cats_allowed</th>\n",
       "      <th>dogs_allowed</th>\n",
       "      <th>smoking_allowed</th>\n",
       "      <th>wheelchair_access</th>\n",
       "      <th>electric_vehicle_charge</th>\n",
       "      <th>comes_furnished</th>\n",
       "      <th>description</th>\n",
       "      <th>lat</th>\n",
       "      <th>long</th>\n",
       "      <th>state</th>\n",
       "    </tr>\n",
       "  </thead>\n",
       "  <tbody>\n",
       "  </tbody>\n",
       "</table>\n",
       "</div>"
      ],
      "text/plain": [
       "Empty DataFrame\n",
       "Columns: [region, region_url, price, type, sqfeet, beds, baths, cats_allowed, dogs_allowed, smoking_allowed, wheelchair_access, electric_vehicle_charge, comes_furnished, description, lat, long, state]\n",
       "Index: []"
      ]
     },
     "execution_count": 22,
     "metadata": {},
     "output_type": "execute_result"
    }
   ],
   "source": [
    "dfPunt"
   ]
  },
  {
   "cell_type": "markdown",
   "id": "9f0400b1",
   "metadata": {},
   "source": [
    "Ninguno de los datos en region_url tiene puntuación. Por otra parte, varias celdas en la columna 'region' tienen dos datos. Como los datos de 'region_url' han sido normalizados, y cotienen la misma información que los de 'region', eliminaremos a esta última."
   ]
  },
  {
   "cell_type": "code",
   "execution_count": 23,
   "id": "3857cdde",
   "metadata": {},
   "outputs": [],
   "source": [
    "dfn.drop(columns= 'region', inplace = True)"
   ]
  },
  {
   "cell_type": "code",
   "execution_count": 24,
   "id": "aa97353e",
   "metadata": {},
   "outputs": [],
   "source": [
    "dfn.rename(columns = {'region_url' : 'region'}, inplace = True)"
   ]
  },
  {
   "cell_type": "code",
   "execution_count": 25,
   "id": "62d75638",
   "metadata": {},
   "outputs": [],
   "source": [
    "region = dfn.region.value_counts().reset_index()"
   ]
  },
  {
   "cell_type": "markdown",
   "id": "5d5b4c4c",
   "metadata": {},
   "source": [
    "### Column 'type'"
   ]
  },
  {
   "cell_type": "code",
   "execution_count": 26,
   "id": "a687c959",
   "metadata": {},
   "outputs": [
    {
     "data": {
      "text/plain": [
       "apartment          285141\n",
       "house               29543\n",
       "townhouse           14147\n",
       "condo                5591\n",
       "duplex               4512\n",
       "manufactured         3813\n",
       "cottage/cabin         765\n",
       "loft                  615\n",
       "flat                  468\n",
       "in-law                152\n",
       "land                    8\n",
       "assisted living         2\n",
       "Name: type, dtype: int64"
      ]
     },
     "execution_count": 26,
     "metadata": {},
     "output_type": "execute_result"
    }
   ],
   "source": [
    "dfn.type.value_counts()"
   ]
  },
  {
   "cell_type": "markdown",
   "id": "42a09aa4",
   "metadata": {},
   "source": [
    "Cambiemos la barra en el valor 'cottage/cabin', ya que podría traer complicaciones más tarde,cuando creemos una columna con ese nombre al utilizar one-hot encoding."
   ]
  },
  {
   "cell_type": "code",
   "execution_count": 27,
   "id": "7949eec0",
   "metadata": {},
   "outputs": [],
   "source": [
    "dfn.type = dfn.type.apply(lambda x: x.replace('/','_'))"
   ]
  },
  {
   "cell_type": "markdown",
   "id": "5ba2389a",
   "metadata": {},
   "source": [
    "Lo mismo para la columna 'in-law'"
   ]
  },
  {
   "cell_type": "code",
   "execution_count": 28,
   "id": "28d155d1",
   "metadata": {},
   "outputs": [],
   "source": [
    "dfn.type = dfn.type.apply(lambda x: x.replace('-','_'))"
   ]
  },
  {
   "cell_type": "code",
   "execution_count": 29,
   "id": "4a29a6da",
   "metadata": {},
   "outputs": [],
   "source": [
    "#dfn.type.value_counts()"
   ]
  },
  {
   "cell_type": "markdown",
   "id": "c895f487",
   "metadata": {},
   "source": [
    "### Columna 'state'"
   ]
  },
  {
   "cell_type": "code",
   "execution_count": 30,
   "id": "6ee52716",
   "metadata": {},
   "outputs": [],
   "source": [
    "# dfn.state.value_counts()"
   ]
  },
  {
   "cell_type": "markdown",
   "id": "df3bcbde",
   "metadata": {},
   "source": [
    "Por lo que pudimos apreciar, esta columna no presenta anormalidades"
   ]
  },
  {
   "cell_type": "markdown",
   "id": "a3768685",
   "metadata": {},
   "source": [
    "### Puntos geográficos"
   ]
  },
  {
   "cell_type": "code",
   "execution_count": 31,
   "id": "9c3dd013",
   "metadata": {},
   "outputs": [],
   "source": [
    "import geopandas"
   ]
  },
  {
   "cell_type": "code",
   "execution_count": 32,
   "id": "173b2ff9",
   "metadata": {},
   "outputs": [],
   "source": [
    "gdf = geopandas.GeoDataFrame(\n",
    "    dfn, geometry=geopandas.points_from_xy(dfn.long, dfn.lat))"
   ]
  },
  {
   "cell_type": "code",
   "execution_count": 33,
   "id": "ef5bf360",
   "metadata": {},
   "outputs": [
    {
     "data": {
      "image/png": "[encoded data removed]",
      "text/plain": [
       "<Figure size 864x864 with 1 Axes>"
      ]
     },
     "metadata": {},
     "output_type": "display_data"
    }
   ],
   "source": [
    "world = geopandas.read_file(geopandas.datasets.get_path('naturalearth_lowres'))\n",
    "ax = world.plot(\n",
    "    color='black', edgecolor='blue', figsize=(12,12))\n",
    "\n",
    "# We can now plot our ``GeoDataFrame``.\n",
    "gdf.plot(ax=ax, color='fuchsia')\n",
    "\n",
    "plt.show()"
   ]
  },
  {
   "cell_type": "markdown",
   "id": "14220f7a",
   "metadata": {},
   "source": [
    "A primera vista lo que notamos es lo siguiente: por un lado, el territorio de Estados Unidos se encuentra cubierto de puntos.\n",
    "Por el otro hay puntos desperdigados por todo el mundo. Algunos se ven en Canadá, otros en Alaska, además hay una masa de puntos concentrados\n",
    "cerca del meridiano 25 y el paralelo -160 aprox. eso debe ser Hawai. Sin embargo hay otros puntos en el Pacífico más alejados de lo que\n",
    "creemos es Hawai, habrá que investigarlos. Los puntos sobre el Atlántico, África, China y el sur de Oceanía también son sospechosos\n",
    "de ser valores erróneos. "
   ]
  },
  {
   "cell_type": "markdown",
   "id": "41acea92",
   "metadata": {},
   "source": [
    "Para realizar la limpieza de estos datos vamos a imaginar un rectángulo que cubra la superficie continental de Los Estados\n",
    "Unidos, exceptuando a Alaska. Las líneas que delimitan este rectángulo están dadas por: "
   ]
  },
  {
   "cell_type": "code",
   "execution_count": 34,
   "id": "f88566d9",
   "metadata": {},
   "outputs": [],
   "source": [
    "meridiano_norte = 49.25   # latitud\n",
    "meridiano_sur = 24.5      # latitud\n",
    "paralelo_este = -67       # long\n",
    "paralelo_oeste = -124.5   # long"
   ]
  },
  {
   "cell_type": "markdown",
   "id": "66a8fa04",
   "metadata": {},
   "source": [
    "Investiguemos los puntos por fuera de este rectángulo y que no pertenezcan a los Estados de Alaska ni Hawai."
   ]
  },
  {
   "cell_type": "markdown",
   "id": "fdca9c0a",
   "metadata": {},
   "source": [
    "Para estar fuera del rectángulo, los puntos deben estar o bien por encima del meridiano 49,25, o por debajo del 24,5. Además, deben estar al este del paralelo -67 o estar al oeste del -124,5. Las cuatro condiciones conforman una suma lógica y lo expresamos de la siguiente manera:"
   ]
  },
  {
   "cell_type": "code",
   "execution_count": 35,
   "id": "8e32ee14",
   "metadata": {},
   "outputs": [],
   "source": [
    "outers = dfn[(dfn.lat > meridiano_norte) | (dfn.lat< meridiano_sur) |\n",
    "             (dfn.long > paralelo_este) | (dfn.long < paralelo_oeste)]"
   ]
  },
  {
   "cell_type": "code",
   "execution_count": 36,
   "id": "39bca571",
   "metadata": {},
   "outputs": [],
   "source": [
    "#outers.state.value_counts()"
   ]
  },
  {
   "cell_type": "markdown",
   "id": "67b854bb",
   "metadata": {},
   "source": [
    "De estos solo nos interesan aquellos que no sean de Alaska ni Hawai"
   ]
  },
  {
   "cell_type": "code",
   "execution_count": 37,
   "id": "607df10c",
   "metadata": {},
   "outputs": [],
   "source": [
    "outers = outers[(outers.state != 'ak') & (outers.state != 'hi')]"
   ]
  },
  {
   "cell_type": "code",
   "execution_count": 38,
   "id": "a8cbef35",
   "metadata": {},
   "outputs": [
    {
     "name": "stdout",
     "output_type": "stream",
     "text": [
      "Los puntos mal ubicados representan un 0.07 % del total\n"
     ]
    }
   ],
   "source": [
    "err_prctj = round((len(outers)/len(dfn)) *100, 2)\n",
    "print(f'Los puntos mal ubicados representan un {err_prctj} % del total')"
   ]
  },
  {
   "cell_type": "markdown",
   "id": "2057ac20",
   "metadata": {},
   "source": [
    "Podríamos eliminarlos, pero procederemos a corregir algunos para dejar asentado como se soluciona esta clase de inconvenientes."
   ]
  },
  {
   "cell_type": "code",
   "execution_count": 39,
   "id": "0681ed51",
   "metadata": {},
   "outputs": [],
   "source": [
    "#outers.state.value_counts()"
   ]
  },
  {
   "cell_type": "markdown",
   "id": "376c6f88",
   "metadata": {},
   "source": [
    "La mayoría de estos registros tienen 'ar' como valor en la columna state, así que vamos a tratar de corregir estos datos."
   ]
  },
  {
   "cell_type": "code",
   "execution_count": 40,
   "id": "62a907d6",
   "metadata": {},
   "outputs": [],
   "source": [
    "# Veamos que muestran las coordenadas de Arkansas en el DF original.\n",
    "#dfn[dfn.state == 'ar'] "
   ]
  },
  {
   "cell_type": "markdown",
   "id": "ffd24583",
   "metadata": {},
   "source": [
    "La longitud de Arkansas está alrededor - 94.xxxx, por lo tanto los datos con similar longitud pero de signo opuesto pueden ser\n",
    "corregidos multiplicandolos por -1. Los datos de la longitud fueron reafirmados al investigar en Google Maps."
   ]
  },
  {
   "cell_type": "code",
   "execution_count": 41,
   "id": "2761dd92",
   "metadata": {},
   "outputs": [],
   "source": [
    "# buscamos los registros de Arkansas al este del cuadraro imaginario que trazamos\n",
    "outers_ar = outers[(outers.state == 'ar') & (outers.long > -67)]"
   ]
  },
  {
   "cell_type": "code",
   "execution_count": 42,
   "id": "c406b19e",
   "metadata": {},
   "outputs": [],
   "source": [
    "# obtenemos una lista de índices para realizar cambios en el data frame original\n",
    "indices = outers_ar.long.index.to_list()"
   ]
  },
  {
   "cell_type": "code",
   "execution_count": 43,
   "id": "6a72b3c4",
   "metadata": {},
   "outputs": [
    {
     "data": {
      "text/plain": [
       "0"
      ]
     },
     "execution_count": 43,
     "metadata": {},
     "output_type": "execute_result"
    }
   ],
   "source": [
    "# contrastamos la longitud del data frame con la de la lista de índices, deberían tener igual tamaño.\n",
    "len(outers_ar) - len(indices)"
   ]
  },
  {
   "cell_type": "code",
   "execution_count": 44,
   "id": "5eb33acd",
   "metadata": {},
   "outputs": [],
   "source": [
    "# Cambiar los valores del campo 'long' para los índices proporcionados\n",
    "for indice in indices:\n",
    "    dfn.at[indice,'long'] = dfn.at[indice,'long'] *-1"
   ]
  },
  {
   "cell_type": "markdown",
   "id": "49af0fdb",
   "metadata": {},
   "source": [
    "__Pasos de comprobación__"
   ]
  },
  {
   "cell_type": "code",
   "execution_count": 45,
   "id": "888594aa",
   "metadata": {},
   "outputs": [],
   "source": [
    "# volvemos a crear un dataframe conteniendo todas las condiciones necesarias para estar fuera del territorio continental\n",
    "outers = dfn[(dfn.lat > meridiano_norte) | (dfn.lat< meridiano_sur) |\n",
    "             (dfn.long > paralelo_este) | (dfn.long < paralelo_oeste)]"
   ]
  },
  {
   "cell_type": "code",
   "execution_count": 46,
   "id": "09353557",
   "metadata": {},
   "outputs": [],
   "source": [
    "# Y pedimos nuevamente excluir a Alaska y a Hawai\n",
    "outers = outers[(outers.state != 'ak') & (outers.state != 'hi')]"
   ]
  },
  {
   "cell_type": "code",
   "execution_count": 47,
   "id": "1db13e46",
   "metadata": {},
   "outputs": [
    {
     "data": {
      "text/plain": [
       "30"
      ]
     },
     "execution_count": 47,
     "metadata": {},
     "output_type": "execute_result"
    }
   ],
   "source": [
    "len(outers)"
   ]
  },
  {
   "cell_type": "markdown",
   "id": "adae6b42",
   "metadata": {},
   "source": [
    "Solamente quedaron 30 registros, procederemos a eliminarlos"
   ]
  },
  {
   "cell_type": "code",
   "execution_count": 48,
   "id": "ee913458",
   "metadata": {},
   "outputs": [
    {
     "data": {
      "text/plain": [
       "0"
      ]
     },
     "execution_count": 48,
     "metadata": {},
     "output_type": "execute_result"
    }
   ],
   "source": [
    "# creamos una lista de índices para luego poder mapear los índices del dataframe original\n",
    "indices = outers.region.index.to_list()\n",
    "len(outers) - len(indices)   # chequeamos que los tamaños se correspondan"
   ]
  },
  {
   "cell_type": "code",
   "execution_count": 49,
   "id": "82e90a3d",
   "metadata": {},
   "outputs": [],
   "source": [
    "# eliminamos los datos en el data frame original\n",
    "dfn.drop(indices, inplace = True)"
   ]
  },
  {
   "cell_type": "markdown",
   "id": "cc5ff14c",
   "metadata": {},
   "source": [
    "Luego de aplicar todos los pasos, volvimos a graficar nuestros datos y notamos que existe al menos un punto sobre el océano Pacífico, vamos a investigarlo."
   ]
  },
  {
   "cell_type": "code",
   "execution_count": 50,
   "id": "0c407c3f",
   "metadata": {},
   "outputs": [],
   "source": [
    "outers = dfn[dfn.lat < 15]"
   ]
  },
  {
   "cell_type": "code",
   "execution_count": 51,
   "id": "81572fa2",
   "metadata": {},
   "outputs": [
    {
     "data": {
      "text/html": [
       "<div>\n",
       "<style scoped>\n",
       "    .dataframe tbody tr th:only-of-type {\n",
       "        vertical-align: middle;\n",
       "    }\n",
       "\n",
       "    .dataframe tbody tr th {\n",
       "        vertical-align: top;\n",
       "    }\n",
       "\n",
       "    .dataframe thead th {\n",
       "        text-align: right;\n",
       "    }\n",
       "</style>\n",
       "<table border=\"1\" class=\"dataframe\">\n",
       "  <thead>\n",
       "    <tr style=\"text-align: right;\">\n",
       "      <th></th>\n",
       "      <th>region</th>\n",
       "      <th>price</th>\n",
       "      <th>type</th>\n",
       "      <th>sqfeet</th>\n",
       "      <th>beds</th>\n",
       "      <th>baths</th>\n",
       "      <th>cats_allowed</th>\n",
       "      <th>dogs_allowed</th>\n",
       "      <th>smoking_allowed</th>\n",
       "      <th>wheelchair_access</th>\n",
       "      <th>electric_vehicle_charge</th>\n",
       "      <th>comes_furnished</th>\n",
       "      <th>description</th>\n",
       "      <th>lat</th>\n",
       "      <th>long</th>\n",
       "      <th>state</th>\n",
       "      <th>geometry</th>\n",
       "    </tr>\n",
       "  </thead>\n",
       "  <tbody>\n",
       "    <tr>\n",
       "      <th>215976</th>\n",
       "      <td>honolulu</td>\n",
       "      <td>1788</td>\n",
       "      <td>condo</td>\n",
       "      <td>570</td>\n",
       "      <td>2</td>\n",
       "      <td>1.0</td>\n",
       "      <td>1</td>\n",
       "      <td>0</td>\n",
       "      <td>0</td>\n",
       "      <td>0</td>\n",
       "      <td>0</td>\n",
       "      <td>1</td>\n",
       "      <td>Stunning views on the ocean and beach from mos...</td>\n",
       "      <td>2.20183</td>\n",
       "      <td>-163.894</td>\n",
       "      <td>hi</td>\n",
       "      <td>POINT (-163.89400 2.20183)</td>\n",
       "    </tr>\n",
       "  </tbody>\n",
       "</table>\n",
       "</div>"
      ],
      "text/plain": [
       "          region  price   type  sqfeet  beds  baths  cats_allowed  \\\n",
       "215976  honolulu   1788  condo     570     2    1.0             1   \n",
       "\n",
       "        dogs_allowed  smoking_allowed  wheelchair_access  \\\n",
       "215976             0                0                  0   \n",
       "\n",
       "        electric_vehicle_charge  comes_furnished  \\\n",
       "215976                        0                1   \n",
       "\n",
       "                                              description      lat     long  \\\n",
       "215976  Stunning views on the ocean and beach from mos...  2.20183 -163.894   \n",
       "\n",
       "       state                    geometry  \n",
       "215976    hi  POINT (-163.89400 2.20183)  "
      ]
     },
     "execution_count": 51,
     "metadata": {},
     "output_type": "execute_result"
    }
   ],
   "source": [
    "outers"
   ]
  },
  {
   "cell_type": "markdown",
   "id": "48908528",
   "metadata": {},
   "source": [
    "Es un solo registro, que muestra coordenadas erróneas para la región de Honolulu, podríamos imputarle un valor, pero lo eliminaremos."
   ]
  },
  {
   "cell_type": "code",
   "execution_count": 52,
   "id": "bae18ebb",
   "metadata": {},
   "outputs": [],
   "source": [
    "dfn.drop(215976, inplace = True)"
   ]
  },
  {
   "cell_type": "markdown",
   "id": "234b57db",
   "metadata": {},
   "source": [
    "## Por el momento, no vamos a seguir teniendo en cuenta las características geográficas. Tampoco realizaremos análisis de texto."
   ]
  },
  {
   "cell_type": "code",
   "execution_count": 53,
   "id": "c09e9f08",
   "metadata": {},
   "outputs": [],
   "source": [
    "dfn.drop(columns=['region','description','lat','long','state', 'geometry'], inplace = True)"
   ]
  },
  {
   "cell_type": "code",
   "execution_count": 54,
   "id": "ed6b5d56",
   "metadata": {},
   "outputs": [
    {
     "name": "stdout",
     "output_type": "stream",
     "text": [
      "<class 'pandas.core.frame.DataFrame'>\n",
      "Int64Index: 344726 entries, 0 to 346478\n",
      "Data columns (total 11 columns):\n",
      " #   Column                   Non-Null Count   Dtype  \n",
      "---  ------                   --------------   -----  \n",
      " 0   price                    344726 non-null  int64  \n",
      " 1   type                     344726 non-null  object \n",
      " 2   sqfeet                   344726 non-null  int64  \n",
      " 3   beds                     344726 non-null  int64  \n",
      " 4   baths                    344726 non-null  float64\n",
      " 5   cats_allowed             344726 non-null  int64  \n",
      " 6   dogs_allowed             344726 non-null  int64  \n",
      " 7   smoking_allowed          344726 non-null  int64  \n",
      " 8   wheelchair_access        344726 non-null  int64  \n",
      " 9   electric_vehicle_charge  344726 non-null  int64  \n",
      " 10  comes_furnished          344726 non-null  int64  \n",
      "dtypes: float64(1), int64(9), object(1)\n",
      "memory usage: 31.6+ MB\n"
     ]
    }
   ],
   "source": [
    "dfn.info()"
   ]
  },
  {
   "cell_type": "markdown",
   "id": "4d2ccb05",
   "metadata": {},
   "source": [
    "## Búsqueda y tratamiento de outliers"
   ]
  },
  {
   "cell_type": "markdown",
   "id": "270cbb20",
   "metadata": {},
   "source": [
    "En esta sección buscaremos valores atípicos en los campos 'price', 'sqfeet', 'beds' y 'baths'. En cuanto las otras columnas numéricas, ya habíamos comprobado más arriba que contienen valores binarios."
   ]
  },
  {
   "cell_type": "markdown",
   "id": "3b506672",
   "metadata": {},
   "source": [
    "Las cuatro columnas mencionadas arriba presentaron outliers. Por lo tanto, vamos usar la regla intercuartil y el método de winzorización para tratar con estos. En primer lugar, con la regla intercuartil hallaremos los límites superiores e inferiores. Luego, llevaremos nuestros valores atípicos al límite más cercano con el método de winzorización. De esta manera, los valores atípicos altos tomarán el valor del límite superior, establecido con la regla intercuartil, mientras que a los valores atípicos bajos se les imputará el valor del límite inferior, siempre que este sea un resultado válido."
   ]
  },
  {
   "cell_type": "markdown",
   "id": "dc95905b",
   "metadata": {},
   "source": [
    "__Funciones para el cálculo del rango intercuartil__"
   ]
  },
  {
   "cell_type": "markdown",
   "id": "3126b485",
   "metadata": {},
   "source": [
    "Solo utilizaremos las dos primeras, las tres últimas son funciones auxiliares."
   ]
  },
  {
   "cell_type": "code",
   "execution_count": 55,
   "id": "d20f2738",
   "metadata": {},
   "outputs": [],
   "source": [
    "# Obtener el límite superior \n",
    "def get_upper_limit(campo, data_frame):\n",
    "    upper_lim = get_quartile_three_value(campo, data_frame) + 1.5*get_iqr(campo, data_frame)\n",
    "    return upper_lim"
   ]
  },
  {
   "cell_type": "code",
   "execution_count": 56,
   "id": "243c9849",
   "metadata": {},
   "outputs": [],
   "source": [
    "# Obtener el valor límite inferior \n",
    "def get_lower_limit(campo, data_frame):\n",
    "    lower_lim = get_quartile_one_value(campo, data_frame) - 1.5*get_iqr(campo, data_frame)\n",
    "    return lower_lim      "
   ]
  },
  {
   "cell_type": "code",
   "execution_count": 57,
   "id": "9afccaca",
   "metadata": {},
   "outputs": [],
   "source": [
    "# Obtener el rango intercuartil\n",
    "def get_iqr(campo, data_frame):\n",
    "    IQR = get_quartile_three_value(campo, data_frame) - get_quartile_one_value(campo, data_frame)\n",
    "    return IQR"
   ]
  },
  {
   "cell_type": "code",
   "execution_count": 58,
   "id": "8f62491d",
   "metadata": {},
   "outputs": [],
   "source": [
    "# calcular el primer cuartil\n",
    "def get_quartile_one_value(campo, data_frame):\n",
    "    Q1 = data_frame[campo].quantile(0.25)\n",
    "    return Q1"
   ]
  },
  {
   "cell_type": "code",
   "execution_count": 59,
   "id": "9ac6b45e",
   "metadata": {},
   "outputs": [],
   "source": [
    "# calcular el tercer cuartil\n",
    "def get_quartile_three_value(campo, data_frame):\n",
    "    Q3 = data_frame[campo].quantile(0.75)\n",
    "    return Q3"
   ]
  },
  {
   "cell_type": "markdown",
   "id": "93086a0d",
   "metadata": {},
   "source": [
    "### Columna 'price'"
   ]
  },
  {
   "cell_type": "markdown",
   "id": "efa8d24e",
   "metadata": {},
   "source": [
    "Comencemos viendo la 'forma' general de los datos."
   ]
  },
  {
   "cell_type": "code",
   "execution_count": 60,
   "id": "c3f89ff9",
   "metadata": {},
   "outputs": [
    {
     "data": {
      "text/plain": [
       "<AxesSubplot:xlabel='price', ylabel='Count'>"
      ]
     },
     "execution_count": 60,
     "metadata": {},
     "output_type": "execute_result"
    },
    {
     "data": {
      "image/png": "[encoded data removed]",
      "text/plain": [
       "<Figure size 1008x288 with 2 Axes>"
      ]
     },
     "metadata": {},
     "output_type": "display_data"
    }
   ],
   "source": [
    "fig, axs = plt.subplots(1, 2,  figsize=(14, 4))\n",
    "sns.boxplot(x='price', data=dfn, ax=axs[0])\n",
    "sns.histplot(x='price', data=dfn, bins=20, kde=False, ax=axs[1])"
   ]
  },
  {
   "cell_type": "code",
   "execution_count": 61,
   "id": "95e7d217",
   "metadata": {},
   "outputs": [],
   "source": [
    "#dfn.loc[dfn['price'].idxmax()]"
   ]
  },
  {
   "cell_type": "markdown",
   "id": "0e9dab56",
   "metadata": {},
   "source": [
    "Como podemos ver, incluso gráficamente es dificil notar la distribución de este campo. Sin embargo parece estar sesgada a la derecha. "
   ]
  },
  {
   "cell_type": "code",
   "execution_count": 62,
   "id": "b2263744",
   "metadata": {},
   "outputs": [
    {
     "data": {
      "text/html": [
       "<div>\n",
       "<style scoped>\n",
       "    .dataframe tbody tr th:only-of-type {\n",
       "        vertical-align: middle;\n",
       "    }\n",
       "\n",
       "    .dataframe tbody tr th {\n",
       "        vertical-align: top;\n",
       "    }\n",
       "\n",
       "    .dataframe thead th {\n",
       "        text-align: right;\n",
       "    }\n",
       "</style>\n",
       "<table border=\"1\" class=\"dataframe\">\n",
       "  <thead>\n",
       "    <tr style=\"text-align: right;\">\n",
       "      <th></th>\n",
       "      <th>price</th>\n",
       "    </tr>\n",
       "  </thead>\n",
       "  <tbody>\n",
       "    <tr>\n",
       "      <th>count</th>\n",
       "      <td>3.447260e+05</td>\n",
       "    </tr>\n",
       "    <tr>\n",
       "      <th>mean</th>\n",
       "      <td>9.705588e+03</td>\n",
       "    </tr>\n",
       "    <tr>\n",
       "      <th>std</th>\n",
       "      <td>4.715517e+06</td>\n",
       "    </tr>\n",
       "    <tr>\n",
       "      <th>min</th>\n",
       "      <td>0.000000e+00</td>\n",
       "    </tr>\n",
       "    <tr>\n",
       "      <th>25%</th>\n",
       "      <td>8.060000e+02</td>\n",
       "    </tr>\n",
       "    <tr>\n",
       "      <th>50%</th>\n",
       "      <td>1.035000e+03</td>\n",
       "    </tr>\n",
       "    <tr>\n",
       "      <th>75%</th>\n",
       "      <td>1.395000e+03</td>\n",
       "    </tr>\n",
       "    <tr>\n",
       "      <th>max</th>\n",
       "      <td>2.768307e+09</td>\n",
       "    </tr>\n",
       "  </tbody>\n",
       "</table>\n",
       "</div>"
      ],
      "text/plain": [
       "              price\n",
       "count  3.447260e+05\n",
       "mean   9.705588e+03\n",
       "std    4.715517e+06\n",
       "min    0.000000e+00\n",
       "25%    8.060000e+02\n",
       "50%    1.035000e+03\n",
       "75%    1.395000e+03\n",
       "max    2.768307e+09"
      ]
     },
     "execution_count": 62,
     "metadata": {},
     "output_type": "execute_result"
    }
   ],
   "source": [
    "dfn[['price']].describe()"
   ]
  },
  {
   "cell_type": "code",
   "execution_count": 63,
   "id": "7d1d9460",
   "metadata": {},
   "outputs": [
    {
     "data": {
      "text/plain": [
       "False    344726\n",
       "Name: price, dtype: int64"
      ]
     },
     "execution_count": 63,
     "metadata": {},
     "output_type": "execute_result"
    }
   ],
   "source": [
    "outliers_low = (dfn['price'] < get_lower_limit('price', dfn)).value_counts()\n",
    "outliers_low"
   ]
  },
  {
   "cell_type": "code",
   "execution_count": 64,
   "id": "1cfada00",
   "metadata": {},
   "outputs": [
    {
     "data": {
      "text/plain": [
       "False    327839\n",
       "True      16887\n",
       "Name: price, dtype: int64"
      ]
     },
     "execution_count": 64,
     "metadata": {},
     "output_type": "execute_result"
    }
   ],
   "source": [
    "outliers_high = (dfn['price'] > get_upper_limit('price', dfn)).value_counts()\n",
    "outliers_high"
   ]
  },
  {
   "cell_type": "markdown",
   "id": "774fa6b5",
   "metadata": {},
   "source": [
    "__Winsorización__"
   ]
  },
  {
   "cell_type": "code",
   "execution_count": 65,
   "id": "b8ba3242",
   "metadata": {},
   "outputs": [
    {
     "data": {
      "text/plain": [
       "-77.5"
      ]
     },
     "execution_count": 65,
     "metadata": {},
     "output_type": "execute_result"
    }
   ],
   "source": [
    "lim_inferior = get_lower_limit('price', dfn)\n",
    "lim_inferior"
   ]
  },
  {
   "cell_type": "markdown",
   "id": "d84546d4",
   "metadata": {},
   "source": [
    "El límite inferior es negativo, pero en este caso, ese número no es válido para una cantidad. Por lo tanto, tomaremos al cero como nuestro límite inferior."
   ]
  },
  {
   "cell_type": "code",
   "execution_count": 66,
   "id": "740d860e",
   "metadata": {},
   "outputs": [
    {
     "data": {
      "text/plain": [
       "2278.5"
      ]
     },
     "execution_count": 66,
     "metadata": {},
     "output_type": "execute_result"
    }
   ],
   "source": [
    "lim_superior = get_upper_limit('price', dfn)\n",
    "lim_superior"
   ]
  },
  {
   "cell_type": "markdown",
   "id": "fc48afdd",
   "metadata": {},
   "source": [
    "Veamos que cuantiles que quedan comprendidos en el rango entre límites son los más próximos a estos límites"
   ]
  },
  {
   "cell_type": "code",
   "execution_count": 67,
   "id": "ba5e4c02",
   "metadata": {},
   "outputs": [
    {
     "data": {
      "text/plain": [
       "0.0"
      ]
     },
     "execution_count": 67,
     "metadata": {},
     "output_type": "execute_result"
    }
   ],
   "source": [
    "dfn['price'].quantile(0.00) "
   ]
  },
  {
   "cell_type": "markdown",
   "id": "846004fe",
   "metadata": {},
   "source": [
    "En el caso del límite inferior, el primer cuantil es igual al límite inferior. Este será el cuantil inferior que utilizaremos."
   ]
  },
  {
   "cell_type": "markdown",
   "id": "6a0ff998",
   "metadata": {},
   "source": [
    "Sigamos con la parte superior "
   ]
  },
  {
   "cell_type": "code",
   "execution_count": 68,
   "id": "dbd1d3cf",
   "metadata": {},
   "outputs": [
    {
     "data": {
      "text/plain": [
       "2260.0"
      ]
     },
     "execution_count": 68,
     "metadata": {},
     "output_type": "execute_result"
    }
   ],
   "source": [
    "dfn['price'].quantile(0.95)    # el cuantil 0.96 es mayor que el límite superior"
   ]
  },
  {
   "cell_type": "markdown",
   "id": "e8695e79",
   "metadata": {},
   "source": [
    "Ya tenemos nuestros dos cuantiles, es hora de tratar los outliers"
   ]
  },
  {
   "cell_type": "code",
   "execution_count": 69,
   "id": "1daec5cc",
   "metadata": {},
   "outputs": [],
   "source": [
    "# Escribimos los límites como percentiles, el primer parámetro es el primer percentil, \n",
    "# el segundo es el percentil 95(5 contado de atrás hacia adelante)\n",
    "dfn['price'] = winsorize(dfn['price'],(0.00, 0.05)) "
   ]
  },
  {
   "cell_type": "markdown",
   "id": "97057909",
   "metadata": {},
   "source": [
    "Veamos como quedaron nuestros datos"
   ]
  },
  {
   "cell_type": "code",
   "execution_count": 70,
   "id": "88a8b0e0",
   "metadata": {},
   "outputs": [
    {
     "data": {
      "text/plain": [
       "<AxesSubplot:xlabel='price', ylabel='Count'>"
      ]
     },
     "execution_count": 70,
     "metadata": {},
     "output_type": "execute_result"
    },
    {
     "data": {
      "image/png": "[encoded data removed]",
      "text/plain": [
       "<Figure size 1008x288 with 2 Axes>"
      ]
     },
     "metadata": {},
     "output_type": "display_data"
    }
   ],
   "source": [
    "fig, axs = plt.subplots(1, 2,  figsize=(14, 4))\n",
    "sns.boxplot(x='price', data=dfn, ax=axs[0])\n",
    "sns.histplot(x='price', data=dfn, bins=20, kde=False, ax=axs[1])"
   ]
  },
  {
   "cell_type": "markdown",
   "id": "06321c2d",
   "metadata": {},
   "source": [
    "Perfecto, nos deshicimos de los outliers."
   ]
  },
  {
   "cell_type": "markdown",
   "id": "66a77fc2",
   "metadata": {},
   "source": [
    "A primera vista quizás parezca un cambio muy drástico, debido a que al corregir los outliers los precios más altos han caído\n",
    "drasticamente. Sin embargo, siguen estando dentro de la categoría de inmuebles caros, por lo que esta estrategia tiene mucho\n",
    "sentido. Distinto sería el caso en que tuviésemos que predecir precios. "
   ]
  },
  {
   "cell_type": "markdown",
   "id": "7c29396f",
   "metadata": {},
   "source": [
    "### Columna 'sqfeet'"
   ]
  },
  {
   "cell_type": "code",
   "execution_count": 71,
   "id": "936cd965",
   "metadata": {},
   "outputs": [
    {
     "data": {
      "text/plain": [
       "<AxesSubplot:xlabel='sqfeet', ylabel='Count'>"
      ]
     },
     "execution_count": 71,
     "metadata": {},
     "output_type": "execute_result"
    },
    {
     "data": {
      "image/png": "[encoded data removed]",
      "text/plain": [
       "<Figure size 1008x288 with 2 Axes>"
      ]
     },
     "metadata": {},
     "output_type": "display_data"
    }
   ],
   "source": [
    "fig, axs = plt.subplots(1, 2,  figsize=(14, 4))\n",
    "sns.boxplot(x='sqfeet', data=dfn, ax=axs[0])\n",
    "sns.histplot(x='sqfeet', data=dfn, bins=20, kde=False, ax=axs[1])"
   ]
  },
  {
   "cell_type": "markdown",
   "id": "d3e8d8a2",
   "metadata": {},
   "source": [
    "Se ve similar a la distribución del campo anterior."
   ]
  },
  {
   "cell_type": "code",
   "execution_count": 72,
   "id": "223a34e2",
   "metadata": {},
   "outputs": [
    {
     "data": {
      "text/plain": [
       "False    343739\n",
       "True        987\n",
       "Name: sqfeet, dtype: int64"
      ]
     },
     "execution_count": 72,
     "metadata": {},
     "output_type": "execute_result"
    }
   ],
   "source": [
    "outliers_low = (dfn['sqfeet'] < get_lower_limit('sqfeet', dfn)).value_counts()\n",
    "outliers_low"
   ]
  },
  {
   "cell_type": "markdown",
   "id": "1ed58585",
   "metadata": {},
   "source": [
    "Pero este campo si posee outliers del lado izquierdo de la distribución."
   ]
  },
  {
   "cell_type": "markdown",
   "id": "dd8c8165",
   "metadata": {},
   "source": [
    "__Winsorización__"
   ]
  },
  {
   "cell_type": "markdown",
   "id": "7dbd0c99",
   "metadata": {},
   "source": [
    "Los pasos a seguir son los mismos descriptos para el campo 'price'"
   ]
  },
  {
   "cell_type": "code",
   "execution_count": 73,
   "id": "83fffb2c",
   "metadata": {},
   "outputs": [
    {
     "data": {
      "text/plain": [
       "151.5"
      ]
     },
     "execution_count": 73,
     "metadata": {},
     "output_type": "execute_result"
    }
   ],
   "source": [
    "lim_inferior = get_lower_limit('sqfeet', dfn)\n",
    "lim_inferior"
   ]
  },
  {
   "cell_type": "code",
   "execution_count": 74,
   "id": "cdc1908e",
   "metadata": {},
   "outputs": [
    {
     "data": {
      "text/plain": [
       "1747.5"
      ]
     },
     "execution_count": 74,
     "metadata": {},
     "output_type": "execute_result"
    }
   ],
   "source": [
    "lim_superior = get_upper_limit('sqfeet', dfn)\n",
    "lim_superior"
   ]
  },
  {
   "cell_type": "code",
   "execution_count": 75,
   "id": "c2f2e1f9",
   "metadata": {},
   "outputs": [
    {
     "data": {
      "text/plain": [
       "340.0"
      ]
     },
     "execution_count": 75,
     "metadata": {},
     "output_type": "execute_result"
    }
   ],
   "source": [
    "dfn['sqfeet'].quantile(0.01) # el primer percentil vale 0, pero queda por debajo del límite inferior"
   ]
  },
  {
   "cell_type": "code",
   "execution_count": 76,
   "id": "0f2a1967",
   "metadata": {},
   "outputs": [
    {
     "data": {
      "text/plain": [
       "1737.0"
      ]
     },
     "execution_count": 76,
     "metadata": {},
     "output_type": "execute_result"
    }
   ],
   "source": [
    "dfn['sqfeet'].quantile(0.96)"
   ]
  },
  {
   "cell_type": "code",
   "execution_count": 77,
   "id": "34e5b3d8",
   "metadata": {},
   "outputs": [],
   "source": [
    "dfn['sqfeet'] = winsorize(dfn['sqfeet'],(0.01, 0.04)) "
   ]
  },
  {
   "cell_type": "code",
   "execution_count": 78,
   "id": "7032b881",
   "metadata": {},
   "outputs": [
    {
     "data": {
      "text/plain": [
       "<AxesSubplot:xlabel='sqfeet', ylabel='Count'>"
      ]
     },
     "execution_count": 78,
     "metadata": {},
     "output_type": "execute_result"
    },
    {
     "data": {
      "image/png": "[encoded data removed]",
      "text/plain": [
       "<Figure size 1008x288 with 2 Axes>"
      ]
     },
     "metadata": {},
     "output_type": "display_data"
    }
   ],
   "source": [
    "fig, axs = plt.subplots(1, 2,  figsize=(14, 4))\n",
    "sns.boxplot(x='sqfeet', data=dfn, ax=axs[0])\n",
    "sns.histplot(x='sqfeet', data=dfn, bins=20, kde=False, ax=axs[1])"
   ]
  },
  {
   "cell_type": "markdown",
   "id": "04596ef9",
   "metadata": {},
   "source": [
    "### Columna 'beds'"
   ]
  },
  {
   "cell_type": "code",
   "execution_count": 79,
   "id": "db12dc69",
   "metadata": {},
   "outputs": [
    {
     "data": {
      "text/plain": [
       "<AxesSubplot:xlabel='beds', ylabel='Count'>"
      ]
     },
     "execution_count": 79,
     "metadata": {},
     "output_type": "execute_result"
    },
    {
     "data": {
      "image/png": "[encoded data removed]",
      "text/plain": [
       "<Figure size 1008x288 with 2 Axes>"
      ]
     },
     "metadata": {},
     "output_type": "display_data"
    }
   ],
   "source": [
    "fig, axs = plt.subplots(1, 2,  figsize=(14, 4))\n",
    "sns.boxplot(x='beds', data=dfn, ax=axs[0])\n",
    "sns.histplot(x='beds', data=dfn, bins=20, kde=False, ax=axs[1])"
   ]
  },
  {
   "cell_type": "markdown",
   "id": "e55a7522",
   "metadata": {},
   "source": [
    "Otra vez vemos lo que pareciera ser una distribución muy sesgada a la derecha."
   ]
  },
  {
   "cell_type": "code",
   "execution_count": 80,
   "id": "89508862",
   "metadata": {},
   "outputs": [
    {
     "data": {
      "text/plain": [
       "False    344726\n",
       "Name: beds, dtype: int64"
      ]
     },
     "execution_count": 80,
     "metadata": {},
     "output_type": "execute_result"
    }
   ],
   "source": [
    "outliers_low = (dfn['beds'] < get_lower_limit('beds', dfn)).value_counts()\n",
    "outliers_low"
   ]
  },
  {
   "cell_type": "markdown",
   "id": "d0fb9685",
   "metadata": {},
   "source": [
    "En efecto, vimos que hay outliers muy a la derecha, pero no hay outliers por debajo del límite inferior"
   ]
  },
  {
   "cell_type": "code",
   "execution_count": 81,
   "id": "616117a2",
   "metadata": {},
   "outputs": [
    {
     "data": {
      "text/plain": [
       "-0.5"
      ]
     },
     "execution_count": 81,
     "metadata": {},
     "output_type": "execute_result"
    }
   ],
   "source": [
    "lim_inferior = get_lower_limit('beds', dfn)\n",
    "lim_inferior"
   ]
  },
  {
   "cell_type": "markdown",
   "id": "8fad29c1",
   "metadata": {},
   "source": [
    "De nuevo como pasó con los precios, el límite inferior es negativo. Por lo tanto, asignaremos el cero al límite inferior."
   ]
  },
  {
   "cell_type": "code",
   "execution_count": 82,
   "id": "7158bdfa",
   "metadata": {},
   "outputs": [],
   "source": [
    "lim_inferior = 0"
   ]
  },
  {
   "cell_type": "code",
   "execution_count": 83,
   "id": "aa2d007e",
   "metadata": {},
   "outputs": [
    {
     "data": {
      "text/plain": [
       "3.5"
      ]
     },
     "execution_count": 83,
     "metadata": {},
     "output_type": "execute_result"
    }
   ],
   "source": [
    "lim_superior = get_upper_limit('beds', dfn)\n",
    "lim_superior"
   ]
  },
  {
   "cell_type": "code",
   "execution_count": 84,
   "id": "391d9dcb",
   "metadata": {},
   "outputs": [
    {
     "data": {
      "text/plain": [
       "0.0"
      ]
     },
     "execution_count": 84,
     "metadata": {},
     "output_type": "execute_result"
    }
   ],
   "source": [
    "dfn['beds'].quantile(0.00) "
   ]
  },
  {
   "cell_type": "code",
   "execution_count": 85,
   "id": "a0f72f5c",
   "metadata": {},
   "outputs": [
    {
     "data": {
      "text/plain": [
       "3.0"
      ]
     },
     "execution_count": 85,
     "metadata": {},
     "output_type": "execute_result"
    }
   ],
   "source": [
    "dfn['beds'].quantile(0.96)"
   ]
  },
  {
   "cell_type": "code",
   "execution_count": 86,
   "id": "0321c716",
   "metadata": {},
   "outputs": [],
   "source": [
    "dfn['beds'] = winsorize(dfn['beds'],(0.00, 0.04)) "
   ]
  },
  {
   "cell_type": "code",
   "execution_count": 87,
   "id": "2eaea637",
   "metadata": {},
   "outputs": [
    {
     "data": {
      "text/plain": [
       "<AxesSubplot:xlabel='beds', ylabel='Count'>"
      ]
     },
     "execution_count": 87,
     "metadata": {},
     "output_type": "execute_result"
    },
    {
     "data": {
      "image/png": "[encoded data removed]",
      "text/plain": [
       "<Figure size 1008x288 with 2 Axes>"
      ]
     },
     "metadata": {},
     "output_type": "display_data"
    }
   ],
   "source": [
    "fig, axs = plt.subplots(1, 2,  figsize=(14, 4))\n",
    "sns.boxplot(x='beds', data=dfn, ax=axs[0])\n",
    "sns.histplot(x='beds', data=dfn, bins=20, kde=False, ax=axs[1])"
   ]
  },
  {
   "cell_type": "markdown",
   "id": "bf999d8f",
   "metadata": {},
   "source": [
    "### Columna 'baths'"
   ]
  },
  {
   "cell_type": "code",
   "execution_count": 88,
   "id": "c8d5e79b",
   "metadata": {},
   "outputs": [
    {
     "data": {
      "text/plain": [
       "<AxesSubplot:xlabel='baths', ylabel='Count'>"
      ]
     },
     "execution_count": 88,
     "metadata": {},
     "output_type": "execute_result"
    },
    {
     "data": {
      "image/png": "[encoded data removed]",
      "text/plain": [
       "<Figure size 1008x288 with 2 Axes>"
      ]
     },
     "metadata": {},
     "output_type": "display_data"
    }
   ],
   "source": [
    "fig, axs = plt.subplots(1, 2,  figsize=(14, 4))\n",
    "sns.boxplot(x='baths', data=dfn, ax=axs[0])\n",
    "sns.histplot(x='baths', data=dfn, bins=20, kde=False, ax=axs[1])"
   ]
  },
  {
   "cell_type": "code",
   "execution_count": 89,
   "id": "23eb879a",
   "metadata": {},
   "outputs": [
    {
     "data": {
      "text/plain": [
       "False    344726\n",
       "Name: baths, dtype: int64"
      ]
     },
     "execution_count": 89,
     "metadata": {},
     "output_type": "execute_result"
    }
   ],
   "source": [
    "outliers_low = (dfn['baths'] < get_lower_limit('baths', dfn)).value_counts()\n",
    "outliers_low"
   ]
  },
  {
   "cell_type": "markdown",
   "id": "6a3e44b9",
   "metadata": {},
   "source": [
    "Una vez más vemos que la distribución de los datos está sesgada a la derecha."
   ]
  },
  {
   "cell_type": "markdown",
   "id": "ee07bdbe",
   "metadata": {},
   "source": [
    "__Winsorización__"
   ]
  },
  {
   "cell_type": "markdown",
   "id": "0430f9ca",
   "metadata": {},
   "source": [
    "Los pasos a seguir son los mismos descriptos para el campo 'price'"
   ]
  },
  {
   "cell_type": "code",
   "execution_count": 90,
   "id": "1cd024eb",
   "metadata": {},
   "outputs": [
    {
     "data": {
      "text/plain": [
       "-0.5"
      ]
     },
     "execution_count": 90,
     "metadata": {},
     "output_type": "execute_result"
    }
   ],
   "source": [
    "lim_inferior = get_lower_limit('baths', dfn)\n",
    "lim_inferior"
   ]
  },
  {
   "cell_type": "code",
   "execution_count": 91,
   "id": "bf0578f9",
   "metadata": {},
   "outputs": [],
   "source": [
    "# redefinimos el límite inferior por ser un valor inválido\n",
    "lim_inferior = 0"
   ]
  },
  {
   "cell_type": "code",
   "execution_count": 92,
   "id": "a1f2d3bd",
   "metadata": {},
   "outputs": [
    {
     "data": {
      "text/plain": [
       "3.5"
      ]
     },
     "execution_count": 92,
     "metadata": {},
     "output_type": "execute_result"
    }
   ],
   "source": [
    "lim_superior = get_upper_limit('baths', dfn)\n",
    "lim_superior"
   ]
  },
  {
   "cell_type": "code",
   "execution_count": 93,
   "id": "d82eb3a2",
   "metadata": {},
   "outputs": [
    {
     "data": {
      "text/plain": [
       "0.0"
      ]
     },
     "execution_count": 93,
     "metadata": {},
     "output_type": "execute_result"
    }
   ],
   "source": [
    "dfn['baths'].quantile(0.00) "
   ]
  },
  {
   "cell_type": "code",
   "execution_count": 94,
   "id": "b8620658",
   "metadata": {},
   "outputs": [
    {
     "data": {
      "text/plain": [
       "3.0"
      ]
     },
     "execution_count": 94,
     "metadata": {},
     "output_type": "execute_result"
    }
   ],
   "source": [
    "dfn['baths'].quantile(0.98)"
   ]
  },
  {
   "cell_type": "code",
   "execution_count": 95,
   "id": "d54509e3",
   "metadata": {},
   "outputs": [],
   "source": [
    "dfn['baths'] = winsorize(dfn['baths'],(0.00, 0.02)) "
   ]
  },
  {
   "cell_type": "code",
   "execution_count": 96,
   "id": "97ad5957",
   "metadata": {},
   "outputs": [
    {
     "data": {
      "text/plain": [
       "<AxesSubplot:xlabel='baths', ylabel='Count'>"
      ]
     },
     "execution_count": 96,
     "metadata": {},
     "output_type": "execute_result"
    },
    {
     "data": {
      "image/png": "[encoded data removed]",
      "text/plain": [
       "<Figure size 1008x288 with 2 Axes>"
      ]
     },
     "metadata": {},
     "output_type": "display_data"
    }
   ],
   "source": [
    "fig, axs = plt.subplots(1, 2,  figsize=(14, 4))\n",
    "sns.boxplot(x='baths', data=dfn, ax=axs[0])\n",
    "sns.histplot(x='baths', data=dfn, bins=20, kde=False, ax=axs[1])"
   ]
  },
  {
   "cell_type": "markdown",
   "id": "55a1590b",
   "metadata": {},
   "source": [
    "Ahora que no tenemos outliers podemos proseguir."
   ]
  },
  {
   "cell_type": "markdown",
   "id": "31862297",
   "metadata": {},
   "source": [
    "## One-Hot Encoding"
   ]
  },
  {
   "cell_type": "markdown",
   "id": "4e7d82e4",
   "metadata": {},
   "source": [
    "En este paso vamos a tomar los valores únicos del campo 'type' y convertirlos en columnas binarizadas. "
   ]
  },
  {
   "cell_type": "code",
   "execution_count": 97,
   "id": "1a85cf7f",
   "metadata": {},
   "outputs": [],
   "source": [
    "ohe = OneHotEncoder()          # crear un objeto OneHotEncoder\n",
    "transformed = ohe.fit_transform(dfn[['type']])  # prepara la columna mencionada\n",
    "#print(transformed.toarray())"
   ]
  },
  {
   "cell_type": "code",
   "execution_count": 98,
   "id": "a4625914",
   "metadata": {},
   "outputs": [],
   "source": [
    "# Codifica a ceros y unos todas las categorías del campo elegido. Luego agrega las nuevas columnas al DF\n",
    "dfn[ohe.categories_[0]] = transformed.toarray() "
   ]
  },
  {
   "cell_type": "code",
   "execution_count": 99,
   "id": "e1f16508",
   "metadata": {},
   "outputs": [],
   "source": [
    "# Ya convertimos las categorías a números, podemos eliminar la columna type\n",
    "dfn.drop(columns = 'type', inplace = True)"
   ]
  },
  {
   "cell_type": "markdown",
   "id": "8b27a887",
   "metadata": {},
   "source": [
    "## Búsqueda de correlaciones entre los campos numéricos"
   ]
  },
  {
   "cell_type": "code",
   "execution_count": 100,
   "id": "36452fa2",
   "metadata": {},
   "outputs": [
    {
     "data": {
      "image/png": "[encoded data removed]",
      "text/plain": [
       "<Figure size 1008x1008 with 2 Axes>"
      ]
     },
     "metadata": {},
     "output_type": "display_data"
    }
   ],
   "source": [
    "# Realizamos el mapa de calor para ver la correlación entre las variables\n",
    "corr = dfn.corr()\n",
    "plt.figure(figsize=(14,14))\n",
    "sns.heatmap(corr, cbar = True,  square = True, annot=True, fmt= '.2f',annot_kws={'size': 10},\n",
    "           xticklabels= dfn.columns, \n",
    "           yticklabels= dfn.columns,\n",
    "           cmap= 'coolwarm')\n",
    "plt.show()"
   ]
  },
  {
   "cell_type": "markdown",
   "id": "a2a55aee",
   "metadata": {},
   "source": [
    "Los campos 'dogs_allowed' y 'cats_allowed' tienen una correlación de 0,89. Por consiguiente, eliminaremos la última."
   ]
  },
  {
   "cell_type": "code",
   "execution_count": 101,
   "id": "86d9f815",
   "metadata": {},
   "outputs": [],
   "source": [
    "dfn.drop(columns = 'cats_allowed', inplace = True)"
   ]
  },
  {
   "cell_type": "markdown",
   "id": "bdfbba6d",
   "metadata": {},
   "source": [
    "## Creación de la columna objetivo"
   ]
  },
  {
   "cell_type": "markdown",
   "id": "9dabdd53",
   "metadata": {},
   "source": [
    "Implementar un modelo de clasificación con aprendizaje supervisado que permita clasificar el precio de las propiedades en venta, utilizando los datos que se han puesto a su disposición. Para esto debe crear la columna category_price, en la cual se consideran las categorías\n",
    "- 'low': Para precios entre 0 y 999 dólares.\n",
    "- 'medium': Para precios entre 1000 y 1999 dólares.\n",
    "- 'high': Para precios desde 2000 dólares en adelante.\n",
    "\n",
    "Considerando esta categorización, el objetivo es predecir si una propiedad pertenece a la categoría de precios bajos (low)."
   ]
  },
  {
   "cell_type": "code",
   "execution_count": 102,
   "id": "62e417c0",
   "metadata": {},
   "outputs": [],
   "source": [
    "# Añademos la columna 'target', inicializamos sus celdas con valor = 0\n",
    "dfn['target'] = 0"
   ]
  },
  {
   "cell_type": "code",
   "execution_count": 103,
   "id": "e199aad3",
   "metadata": {},
   "outputs": [],
   "source": [
    "# A los registros con precio menor o igual que 999 les asignaremos 1 como valor\n",
    "dfn.loc[dfn['price'] <= 999, 'target'] = 1"
   ]
  },
  {
   "cell_type": "code",
   "execution_count": 104,
   "id": "d785c9cd",
   "metadata": {},
   "outputs": [
    {
     "data": {
      "text/plain": [
       "159974"
      ]
     },
     "execution_count": 104,
     "metadata": {},
     "output_type": "execute_result"
    }
   ],
   "source": [
    "dfn[dfn.price <= 999].price.value_counts().sum()"
   ]
  },
  {
   "cell_type": "markdown",
   "id": "a1b97e79",
   "metadata": {},
   "source": [
    "### Eliminamos la columna 'price'"
   ]
  },
  {
   "cell_type": "code",
   "execution_count": 105,
   "id": "75a96824",
   "metadata": {},
   "outputs": [],
   "source": [
    "dfn.drop(columns ='price', inplace = True)"
   ]
  },
  {
   "cell_type": "code",
   "execution_count": 106,
   "id": "594c248e",
   "metadata": {},
   "outputs": [],
   "source": [
    "dfn.to_csv('dataSetEntrenamieno.csv')"
   ]
  },
  {
   "cell_type": "markdown",
   "id": "0e2b4748",
   "metadata": {},
   "source": [
    "# Set de testeo"
   ]
  },
  {
   "cell_type": "code",
   "execution_count": 107,
   "id": "49636f03",
   "metadata": {},
   "outputs": [],
   "source": [
    "dfs = pd.read_parquet('dataSets\\\\test.parquet')"
   ]
  },
  {
   "cell_type": "markdown",
   "id": "5bdc6919",
   "metadata": {},
   "source": [
    "## Chequeo y tratamiento de valores nulos"
   ]
  },
  {
   "cell_type": "code",
   "execution_count": 108,
   "id": "6edb1ebe",
   "metadata": {
    "scrolled": true
   },
   "outputs": [
    {
     "data": {
      "text/plain": [
       "parking_options            36.378513\n",
       "laundry_options            20.403657\n",
       "long                        0.509117\n",
       "lat                         0.509117\n",
       "id                          0.000000\n",
       "wheelchair_access           0.000000\n",
       "description                 0.000000\n",
       "image_url                   0.000000\n",
       "comes_furnished             0.000000\n",
       "electric_vehicle_charge     0.000000\n",
       "smoking_allowed             0.000000\n",
       "url                         0.000000\n",
       "dogs_allowed                0.000000\n",
       "cats_allowed                0.000000\n",
       "baths                       0.000000\n",
       "beds                        0.000000\n",
       "sqfeet                      0.000000\n",
       "type                        0.000000\n",
       "region_url                  0.000000\n",
       "region                      0.000000\n",
       "state                       0.000000\n",
       "dtype: float64"
      ]
     },
     "execution_count": 108,
     "metadata": {},
     "output_type": "execute_result"
    }
   ],
   "source": [
    "get_nan_in_df(dfs)"
   ]
  },
  {
   "cell_type": "markdown",
   "id": "a331af92",
   "metadata": {},
   "source": [
    "Eliminemos los campos que no están en el data frame de entrenamiento y que tampoco utilizamos para tratar los datos, con eso eliminaremos dos de las columnas con valores nulos."
   ]
  },
  {
   "cell_type": "code",
   "execution_count": 109,
   "id": "8dd8f61c",
   "metadata": {},
   "outputs": [
    {
     "name": "stdout",
     "output_type": "stream",
     "text": [
      "id\n",
      "url\n",
      "region\n",
      "region_url\n",
      "type\n",
      "cats_allowed\n",
      "laundry_options\n",
      "parking_options\n",
      "image_url\n",
      "description\n",
      "lat\n",
      "long\n",
      "state\n"
     ]
    }
   ],
   "source": [
    "# campos que aparecen en el dataframe de testeo, pero que no están en el de entrenamiento\n",
    "for columna in dfs.columns:\n",
    "    if columna not in dfn.columns:\n",
    "        print(columna)"
   ]
  },
  {
   "cell_type": "code",
   "execution_count": 110,
   "id": "97f837e3",
   "metadata": {},
   "outputs": [],
   "source": [
    "dfs.drop(columns = ['parking_options', 'laundry_options', 'url','image_url','id', 'description','region', 'cats_allowed'], inplace=True)"
   ]
  },
  {
   "cell_type": "markdown",
   "id": "f692c9fd",
   "metadata": {},
   "source": [
    "Las columnas 'lat' y 'long' contienen valores nulos, pero luego serán eliminadas, por lo tanto no es necesario tratar esos valores."
   ]
  },
  {
   "cell_type": "markdown",
   "id": "eb4751ea",
   "metadata": {},
   "source": [
    "### Normalizar la columna region_url"
   ]
  },
  {
   "cell_type": "markdown",
   "id": "49cf79dd",
   "metadata": {},
   "source": [
    "Como vimos en el data frame de entrenamiento, la string de la url del campo 'region_url' tiene un valor único de región, al contrario del campo región que a veces posee dos. Por esta razón, utilizaremos esta columna. "
   ]
  },
  {
   "cell_type": "code",
   "execution_count": 111,
   "id": "165c770a",
   "metadata": {},
   "outputs": [],
   "source": [
    "dfs.region_url = dfs.region_url.apply(limpiar_url)"
   ]
  },
  {
   "cell_type": "code",
   "execution_count": 112,
   "id": "3e896cc3",
   "metadata": {},
   "outputs": [],
   "source": [
    "region_url = dfs.region_url.value_counts().reset_index()"
   ]
  },
  {
   "cell_type": "code",
   "execution_count": 113,
   "id": "7277265f",
   "metadata": {},
   "outputs": [],
   "source": [
    "# chequeamos que no haya quedado algun signo de puntuación de la url\n",
    "dfPunt = dfs[dfs.region_url.apply(find_punctuation)]"
   ]
  },
  {
   "cell_type": "code",
   "execution_count": 114,
   "id": "a59fe97a",
   "metadata": {},
   "outputs": [
    {
     "data": {
      "text/html": [
       "<div>\n",
       "<style scoped>\n",
       "    .dataframe tbody tr th:only-of-type {\n",
       "        vertical-align: middle;\n",
       "    }\n",
       "\n",
       "    .dataframe tbody tr th {\n",
       "        vertical-align: top;\n",
       "    }\n",
       "\n",
       "    .dataframe thead th {\n",
       "        text-align: right;\n",
       "    }\n",
       "</style>\n",
       "<table border=\"1\" class=\"dataframe\">\n",
       "  <thead>\n",
       "    <tr style=\"text-align: right;\">\n",
       "      <th></th>\n",
       "      <th>region_url</th>\n",
       "      <th>type</th>\n",
       "      <th>sqfeet</th>\n",
       "      <th>beds</th>\n",
       "      <th>baths</th>\n",
       "      <th>dogs_allowed</th>\n",
       "      <th>smoking_allowed</th>\n",
       "      <th>wheelchair_access</th>\n",
       "      <th>electric_vehicle_charge</th>\n",
       "      <th>comes_furnished</th>\n",
       "      <th>lat</th>\n",
       "      <th>long</th>\n",
       "      <th>state</th>\n",
       "    </tr>\n",
       "  </thead>\n",
       "  <tbody>\n",
       "  </tbody>\n",
       "</table>\n",
       "</div>"
      ],
      "text/plain": [
       "Empty DataFrame\n",
       "Columns: [region_url, type, sqfeet, beds, baths, dogs_allowed, smoking_allowed, wheelchair_access, electric_vehicle_charge, comes_furnished, lat, long, state]\n",
       "Index: []"
      ]
     },
     "execution_count": 114,
     "metadata": {},
     "output_type": "execute_result"
    }
   ],
   "source": [
    "dfPunt"
   ]
  },
  {
   "cell_type": "code",
   "execution_count": 115,
   "id": "33119f55",
   "metadata": {},
   "outputs": [],
   "source": [
    "dfs.rename(columns = {'region_url' : 'region'}, inplace = True)"
   ]
  },
  {
   "cell_type": "markdown",
   "id": "2e321d1c",
   "metadata": {},
   "source": [
    "### Column 'type'"
   ]
  },
  {
   "cell_type": "code",
   "execution_count": 116,
   "id": "0528a6b6",
   "metadata": {},
   "outputs": [
    {
     "data": {
      "text/plain": [
       "apartment        31729\n",
       "house             3319\n",
       "townhouse         1646\n",
       "condo              625\n",
       "duplex             508\n",
       "manufactured       423\n",
       "cottage/cabin       91\n",
       "loft                77\n",
       "flat                61\n",
       "in-law              19\n",
       "Name: type, dtype: int64"
      ]
     },
     "execution_count": 116,
     "metadata": {},
     "output_type": "execute_result"
    }
   ],
   "source": [
    "dfs.type.value_counts()"
   ]
  },
  {
   "cell_type": "markdown",
   "id": "9d560b55",
   "metadata": {},
   "source": [
    "Estas no tienen valor 'land', ni valor 'assisted living', así que deberemos eliminar esas columnas del data frame de entrenamiento."
   ]
  },
  {
   "cell_type": "code",
   "execution_count": 117,
   "id": "8ce32c08",
   "metadata": {},
   "outputs": [],
   "source": [
    "dfn.drop(columns = ['land', 'assisted living'], inplace = True )"
   ]
  },
  {
   "cell_type": "markdown",
   "id": "aced3e5a",
   "metadata": {},
   "source": [
    "Reemplacemos los valores 'cottage/cabin' y 'in-law' "
   ]
  },
  {
   "cell_type": "code",
   "execution_count": 118,
   "id": "7da33a51",
   "metadata": {},
   "outputs": [],
   "source": [
    "dfs.type = dfs.type.apply(lambda x: x.replace('/','_'))\n",
    "dfs.type = dfs.type.apply(lambda x: x.replace('-','_'))"
   ]
  },
  {
   "cell_type": "markdown",
   "id": "37273bd0",
   "metadata": {},
   "source": [
    "### Columna 'state'"
   ]
  },
  {
   "cell_type": "code",
   "execution_count": 119,
   "id": "15da1452",
   "metadata": {},
   "outputs": [],
   "source": [
    "#dfs.state.value_counts()"
   ]
  },
  {
   "cell_type": "markdown",
   "id": "4dc9cbf1",
   "metadata": {},
   "source": [
    "No se aprecian anormalidades en los valores de esta columna."
   ]
  },
  {
   "cell_type": "markdown",
   "id": "ca85c580",
   "metadata": {},
   "source": [
    "## Puntos geográficos"
   ]
  },
  {
   "cell_type": "code",
   "execution_count": 120,
   "id": "ddebbbf3",
   "metadata": {},
   "outputs": [],
   "source": [
    "gdf = geopandas.GeoDataFrame(\n",
    "    dfs, geometry=geopandas.points_from_xy(dfs.long, dfs.lat))"
   ]
  },
  {
   "cell_type": "code",
   "execution_count": 121,
   "id": "9cd28f92",
   "metadata": {},
   "outputs": [
    {
     "data": {
      "image/png": "[encoded data removed]",
      "text/plain": [
       "<Figure size 864x864 with 1 Axes>"
      ]
     },
     "metadata": {},
     "output_type": "display_data"
    }
   ],
   "source": [
    "world = geopandas.read_file(geopandas.datasets.get_path('naturalearth_lowres'))\n",
    "ax = world.plot(\n",
    "    color='black', edgecolor='blue', figsize=(12,12))\n",
    "\n",
    "# We can now plot our ``GeoDataFrame``.\n",
    "gdf.plot(ax=ax, color='cyan')\n",
    "\n",
    "plt.show()"
   ]
  },
  {
   "cell_type": "markdown",
   "id": "8758a2bc",
   "metadata": {},
   "source": [
    "Vamos a seguir los mismos pasos que explicamos para el data frame de entrenamiento."
   ]
  },
  {
   "cell_type": "code",
   "execution_count": 122,
   "id": "0ce5b936",
   "metadata": {},
   "outputs": [],
   "source": [
    "outers = dfs[(dfs.lat > meridiano_norte) | (dfs.lat< meridiano_sur) |\n",
    "             (dfs.long > paralelo_este) | (dfs.long < paralelo_oeste)]"
   ]
  },
  {
   "cell_type": "code",
   "execution_count": 123,
   "id": "09813fea",
   "metadata": {},
   "outputs": [
    {
     "data": {
      "text/plain": [
       "ak    196\n",
       "hi    161\n",
       "ar     24\n",
       "il      1\n",
       "fl      1\n",
       "ga      1\n",
       "Name: state, dtype: int64"
      ]
     },
     "execution_count": 123,
     "metadata": {},
     "output_type": "execute_result"
    }
   ],
   "source": [
    "outers.state.value_counts()"
   ]
  },
  {
   "cell_type": "markdown",
   "id": "c39b725f",
   "metadata": {},
   "source": [
    "Los puntos del Estado de Arkansas que se muestran sobre China tiene el mismo problema que los del set anterior. Lo solucionaremos multiplicando los valores por -1. "
   ]
  },
  {
   "cell_type": "code",
   "execution_count": 124,
   "id": "2c715487",
   "metadata": {},
   "outputs": [],
   "source": [
    "# buscamos los registros de Arkansas al este del cuadraro imaginario que trazamos\n",
    "outers_ar = outers[(outers.state == 'ar') & (outers.long > -67)]"
   ]
  },
  {
   "cell_type": "code",
   "execution_count": 125,
   "id": "9f584bf2",
   "metadata": {},
   "outputs": [],
   "source": [
    "# obtenemos una lista de índices para realizar cambios en el data frame original\n",
    "indices = outers_ar.long.index.to_list()"
   ]
  },
  {
   "cell_type": "code",
   "execution_count": 126,
   "id": "6e80e3b2",
   "metadata": {},
   "outputs": [
    {
     "data": {
      "text/plain": [
       "0"
      ]
     },
     "execution_count": 126,
     "metadata": {},
     "output_type": "execute_result"
    }
   ],
   "source": [
    "# contrastamos la longitud del data frame con la de la lista de índices, deberían tener igual tamaño.\n",
    "len(outers_ar) - len(indices)"
   ]
  },
  {
   "cell_type": "code",
   "execution_count": 127,
   "id": "49bb74b6",
   "metadata": {},
   "outputs": [],
   "source": [
    "# Cambiar los valores del campo 'long' para los índices proporcionados\n",
    "for indice in indices:\n",
    "    dfs.at[indice,'long'] = dfs.at[indice,'long'] *-1"
   ]
  },
  {
   "cell_type": "code",
   "execution_count": 128,
   "id": "51aeeb58",
   "metadata": {},
   "outputs": [],
   "source": [
    "# Volvemos a revisar las condiciones una vez que corregimos los primeros datos\n",
    "outers = dfs[(dfs.lat > meridiano_norte) | (dfs.lat< meridiano_sur) |\n",
    "             (dfs.long > paralelo_este) | (dfs.long < paralelo_oeste)]"
   ]
  },
  {
   "cell_type": "code",
   "execution_count": 129,
   "id": "a8dc37a0",
   "metadata": {},
   "outputs": [],
   "source": [
    "# y volvemos a quitar a los Estados de Alaska y Hawai de nuestra búsqueda\n",
    "outers = outers[(outers.state != 'ak') & (outers.state != 'hi')]"
   ]
  },
  {
   "cell_type": "code",
   "execution_count": 130,
   "id": "cdcf0582",
   "metadata": {},
   "outputs": [
    {
     "data": {
      "text/html": [
       "<div>\n",
       "<style scoped>\n",
       "    .dataframe tbody tr th:only-of-type {\n",
       "        vertical-align: middle;\n",
       "    }\n",
       "\n",
       "    .dataframe tbody tr th {\n",
       "        vertical-align: top;\n",
       "    }\n",
       "\n",
       "    .dataframe thead th {\n",
       "        text-align: right;\n",
       "    }\n",
       "</style>\n",
       "<table border=\"1\" class=\"dataframe\">\n",
       "  <thead>\n",
       "    <tr style=\"text-align: right;\">\n",
       "      <th></th>\n",
       "      <th>region</th>\n",
       "      <th>type</th>\n",
       "      <th>sqfeet</th>\n",
       "      <th>beds</th>\n",
       "      <th>baths</th>\n",
       "      <th>dogs_allowed</th>\n",
       "      <th>smoking_allowed</th>\n",
       "      <th>wheelchair_access</th>\n",
       "      <th>electric_vehicle_charge</th>\n",
       "      <th>comes_furnished</th>\n",
       "      <th>lat</th>\n",
       "      <th>long</th>\n",
       "      <th>state</th>\n",
       "      <th>geometry</th>\n",
       "    </tr>\n",
       "  </thead>\n",
       "  <tbody>\n",
       "    <tr>\n",
       "      <th>26847</th>\n",
       "      <td>carbondale</td>\n",
       "      <td>townhouse</td>\n",
       "      <td>1150</td>\n",
       "      <td>2</td>\n",
       "      <td>1.0</td>\n",
       "      <td>1</td>\n",
       "      <td>0</td>\n",
       "      <td>0</td>\n",
       "      <td>0</td>\n",
       "      <td>0</td>\n",
       "      <td>4.25383</td>\n",
       "      <td>-108.5150</td>\n",
       "      <td>il</td>\n",
       "      <td>POINT (-108.51500 4.25383)</td>\n",
       "    </tr>\n",
       "    <tr>\n",
       "      <th>27538</th>\n",
       "      <td>gainesville</td>\n",
       "      <td>apartment</td>\n",
       "      <td>1631</td>\n",
       "      <td>3</td>\n",
       "      <td>1.0</td>\n",
       "      <td>0</td>\n",
       "      <td>1</td>\n",
       "      <td>0</td>\n",
       "      <td>0</td>\n",
       "      <td>0</td>\n",
       "      <td>50.79300</td>\n",
       "      <td>-111.2260</td>\n",
       "      <td>fl</td>\n",
       "      <td>POINT (-111.22600 50.79300)</td>\n",
       "    </tr>\n",
       "    <tr>\n",
       "      <th>29858</th>\n",
       "      <td>valdosta</td>\n",
       "      <td>apartment</td>\n",
       "      <td>850</td>\n",
       "      <td>2</td>\n",
       "      <td>1.0</td>\n",
       "      <td>1</td>\n",
       "      <td>0</td>\n",
       "      <td>0</td>\n",
       "      <td>0</td>\n",
       "      <td>0</td>\n",
       "      <td>24.22880</td>\n",
       "      <td>-98.9422</td>\n",
       "      <td>ga</td>\n",
       "      <td>POINT (-98.94220 24.22880)</td>\n",
       "    </tr>\n",
       "  </tbody>\n",
       "</table>\n",
       "</div>"
      ],
      "text/plain": [
       "            region       type  sqfeet  beds  baths  dogs_allowed  \\\n",
       "26847   carbondale  townhouse    1150     2    1.0             1   \n",
       "27538  gainesville  apartment    1631     3    1.0             0   \n",
       "29858     valdosta  apartment     850     2    1.0             1   \n",
       "\n",
       "       smoking_allowed  wheelchair_access  electric_vehicle_charge  \\\n",
       "26847                0                  0                        0   \n",
       "27538                1                  0                        0   \n",
       "29858                0                  0                        0   \n",
       "\n",
       "       comes_furnished       lat      long state                     geometry  \n",
       "26847                0   4.25383 -108.5150    il   POINT (-108.51500 4.25383)  \n",
       "27538                0  50.79300 -111.2260    fl  POINT (-111.22600 50.79300)  \n",
       "29858                0  24.22880  -98.9422    ga   POINT (-98.94220 24.22880)  "
      ]
     },
     "execution_count": 130,
     "metadata": {},
     "output_type": "execute_result"
    }
   ],
   "source": [
    "outers"
   ]
  },
  {
   "cell_type": "markdown",
   "id": "10667d87",
   "metadata": {},
   "source": [
    "Quedan tres registros que no podemos eliminar, pero al ser tan pocos los corregiremos manualmente. Le imputaremos los valores de otra celda de la misma region y Estado."
   ]
  },
  {
   "cell_type": "code",
   "execution_count": 131,
   "id": "7da1e61e",
   "metadata": {},
   "outputs": [],
   "source": [
    "dfc =dfs[dfs.region == 'valdosta']"
   ]
  },
  {
   "cell_type": "code",
   "execution_count": 132,
   "id": "8a0add2e",
   "metadata": {},
   "outputs": [],
   "source": [
    "dfs.at[26847, 'lat'] = 37.72000\n",
    "dfs.at[26847, 'long'] = -89.2158"
   ]
  },
  {
   "cell_type": "code",
   "execution_count": 133,
   "id": "04c58f53",
   "metadata": {},
   "outputs": [],
   "source": [
    "dfs.at[27538, 'lat'] = 29.6808\n",
    "dfs.at[27538, 'long'] = -82.4303"
   ]
  },
  {
   "cell_type": "code",
   "execution_count": 134,
   "id": "c9de71bf",
   "metadata": {},
   "outputs": [],
   "source": [
    "dfs.at[29858, 'lat'] = 30.8574\n",
    "dfs.at[29858, 'long'] = -83.2676"
   ]
  },
  {
   "cell_type": "markdown",
   "id": "633a2a2c",
   "metadata": {},
   "source": [
    "Eso concluye la limpieza de los puntos geográficos. Ya podemos eliminar los campos relacionados con la ubicación de los inmuebles."
   ]
  },
  {
   "cell_type": "code",
   "execution_count": 135,
   "id": "a4cf587c",
   "metadata": {},
   "outputs": [],
   "source": [
    "dfs.drop(columns=['region','lat','long','state', 'geometry'], inplace = True)"
   ]
  },
  {
   "cell_type": "markdown",
   "id": "2ad6f6d6",
   "metadata": {},
   "source": [
    "## Búsqueda y tratamiento de outliers"
   ]
  },
  {
   "cell_type": "markdown",
   "id": "fddb0936",
   "metadata": {},
   "source": [
    "Vamos a repetir el procedimiento empleado en el set de entrenamiento. Esto es:\n",
    "- buscar valores atípicos en las columnas 'sqfeet', 'beds' y 'baths'\n",
    "- tratarlos usando la regla intercuartil y el método de winsorización"
   ]
  },
  {
   "cell_type": "markdown",
   "id": "c43d45f8",
   "metadata": {},
   "source": [
    "### Columna 'sqfeet'"
   ]
  },
  {
   "cell_type": "code",
   "execution_count": 136,
   "id": "c7915e64",
   "metadata": {},
   "outputs": [
    {
     "data": {
      "text/plain": [
       "<AxesSubplot:xlabel='sqfeet', ylabel='Count'>"
      ]
     },
     "execution_count": 136,
     "metadata": {},
     "output_type": "execute_result"
    },
    {
     "data": {
      "image/png": "[encoded data removed]",
      "text/plain": [
       "<Figure size 1008x288 with 2 Axes>"
      ]
     },
     "metadata": {},
     "output_type": "display_data"
    }
   ],
   "source": [
    "fig, axs = plt.subplots(1, 2,  figsize=(14, 4))\n",
    "sns.boxplot(x='sqfeet', data=dfs, ax=axs[0])\n",
    "sns.histplot(x='sqfeet', data=dfs, bins=20, kde=False, ax=axs[1])"
   ]
  },
  {
   "cell_type": "code",
   "execution_count": 137,
   "id": "4e5b7c85",
   "metadata": {},
   "outputs": [
    {
     "data": {
      "text/plain": [
       "False    38402\n",
       "True        96\n",
       "Name: sqfeet, dtype: int64"
      ]
     },
     "execution_count": 137,
     "metadata": {},
     "output_type": "execute_result"
    }
   ],
   "source": [
    "outliers_low = (dfs['sqfeet'] < get_lower_limit('sqfeet', dfs)).value_counts()\n",
    "outliers_low"
   ]
  },
  {
   "cell_type": "code",
   "execution_count": 138,
   "id": "ac2ab64b",
   "metadata": {},
   "outputs": [
    {
     "data": {
      "text/plain": [
       "count    38498.000000\n",
       "mean      1002.062964\n",
       "std        686.933541\n",
       "min          0.000000\n",
       "25%        750.000000\n",
       "50%        947.000000\n",
       "75%       1150.000000\n",
       "max      95242.000000\n",
       "Name: sqfeet, dtype: float64"
      ]
     },
     "execution_count": 138,
     "metadata": {},
     "output_type": "execute_result"
    }
   ],
   "source": [
    "dfs.sqfeet.describe()"
   ]
  },
  {
   "cell_type": "markdown",
   "id": "b1a6f46f",
   "metadata": {},
   "source": [
    "__Winsorización__"
   ]
  },
  {
   "cell_type": "code",
   "execution_count": 139,
   "id": "36b8d56b",
   "metadata": {},
   "outputs": [
    {
     "data": {
      "text/plain": [
       "150.0"
      ]
     },
     "execution_count": 139,
     "metadata": {},
     "output_type": "execute_result"
    }
   ],
   "source": [
    "lim_inferior = get_lower_limit('sqfeet', dfs)\n",
    "lim_inferior"
   ]
  },
  {
   "cell_type": "code",
   "execution_count": 140,
   "id": "510e2ee8",
   "metadata": {},
   "outputs": [
    {
     "data": {
      "text/plain": [
       "1750.0"
      ]
     },
     "execution_count": 140,
     "metadata": {},
     "output_type": "execute_result"
    }
   ],
   "source": [
    "lim_superior = get_upper_limit('sqfeet', dfs)\n",
    "lim_superior"
   ]
  },
  {
   "cell_type": "code",
   "execution_count": 141,
   "id": "ca33e110",
   "metadata": {},
   "outputs": [
    {
     "data": {
      "text/plain": [
       "345.0"
      ]
     },
     "execution_count": 141,
     "metadata": {},
     "output_type": "execute_result"
    }
   ],
   "source": [
    "dfs['sqfeet'].quantile(0.01)  # el primer cuartil da como valor cero, no es un valor válido en este contexto"
   ]
  },
  {
   "cell_type": "code",
   "execution_count": 142,
   "id": "422e09ea",
   "metadata": {},
   "outputs": [
    {
     "data": {
      "text/plain": [
       "1750.0"
      ]
     },
     "execution_count": 142,
     "metadata": {},
     "output_type": "execute_result"
    }
   ],
   "source": [
    "dfs['sqfeet'].quantile(0.96)"
   ]
  },
  {
   "cell_type": "code",
   "execution_count": 143,
   "id": "de051c7b",
   "metadata": {},
   "outputs": [],
   "source": [
    "dfs['sqfeet'] = winsorize(dfs['sqfeet'],(0.01, 0.04)) "
   ]
  },
  {
   "cell_type": "code",
   "execution_count": 144,
   "id": "db19559e",
   "metadata": {},
   "outputs": [
    {
     "data": {
      "text/plain": [
       "<AxesSubplot:xlabel='sqfeet', ylabel='Count'>"
      ]
     },
     "execution_count": 144,
     "metadata": {},
     "output_type": "execute_result"
    },
    {
     "data": {
      "image/png": "[encoded data removed]",
      "text/plain": [
       "<Figure size 1008x288 with 2 Axes>"
      ]
     },
     "metadata": {},
     "output_type": "display_data"
    }
   ],
   "source": [
    "fig, axs = plt.subplots(1, 2,  figsize=(14, 4))\n",
    "sns.boxplot(x='sqfeet', data=dfs, ax=axs[0])\n",
    "sns.histplot(x='sqfeet', data=dfs, bins=20, kde=False, ax=axs[1])"
   ]
  },
  {
   "cell_type": "markdown",
   "id": "73f10d85",
   "metadata": {},
   "source": [
    "### Columna 'beds'\n"
   ]
  },
  {
   "cell_type": "code",
   "execution_count": 145,
   "id": "9346f780",
   "metadata": {},
   "outputs": [
    {
     "data": {
      "text/plain": [
       "<AxesSubplot:xlabel='beds', ylabel='Count'>"
      ]
     },
     "execution_count": 145,
     "metadata": {},
     "output_type": "execute_result"
    },
    {
     "data": {
      "image/png": "[encoded data removed]",
      "text/plain": [
       "<Figure size 1008x288 with 2 Axes>"
      ]
     },
     "metadata": {},
     "output_type": "display_data"
    }
   ],
   "source": [
    "fig, axs = plt.subplots(1, 2,  figsize=(14, 4))\n",
    "sns.boxplot(x='beds', data=dfs, ax=axs[0])\n",
    "sns.histplot(x='beds', data=dfs, bins=20, kde=False, ax=axs[1])"
   ]
  },
  {
   "cell_type": "code",
   "execution_count": 146,
   "id": "4382d674",
   "metadata": {},
   "outputs": [
    {
     "data": {
      "text/plain": [
       "False    38498\n",
       "Name: beds, dtype: int64"
      ]
     },
     "execution_count": 146,
     "metadata": {},
     "output_type": "execute_result"
    }
   ],
   "source": [
    "outliers_low = (dfs['beds'] < get_lower_limit('beds', dfs)).value_counts()\n",
    "outliers_low"
   ]
  },
  {
   "cell_type": "markdown",
   "id": "5a0959e2",
   "metadata": {},
   "source": [
    "No hay outliers por el lado izquierdo de la data pero si por el derecho."
   ]
  },
  {
   "cell_type": "code",
   "execution_count": 147,
   "id": "e6c2811a",
   "metadata": {},
   "outputs": [
    {
     "data": {
      "text/plain": [
       "-0.5"
      ]
     },
     "execution_count": 147,
     "metadata": {},
     "output_type": "execute_result"
    }
   ],
   "source": [
    "lim_inferior = get_lower_limit('beds', dfs)\n",
    "lim_inferior"
   ]
  },
  {
   "cell_type": "code",
   "execution_count": 148,
   "id": "661dc4f7",
   "metadata": {},
   "outputs": [],
   "source": [
    "# Redefinimos el límite inferior por ser un valor inválido.\n",
    "lim_inferior = 0"
   ]
  },
  {
   "cell_type": "code",
   "execution_count": 149,
   "id": "188cbe8b",
   "metadata": {},
   "outputs": [
    {
     "data": {
      "text/plain": [
       "3.5"
      ]
     },
     "execution_count": 149,
     "metadata": {},
     "output_type": "execute_result"
    }
   ],
   "source": [
    "lim_superior = get_upper_limit('beds', dfs)\n",
    "lim_superior"
   ]
  },
  {
   "cell_type": "code",
   "execution_count": 150,
   "id": "cf0754dc",
   "metadata": {},
   "outputs": [
    {
     "data": {
      "text/plain": [
       "0.0"
      ]
     },
     "execution_count": 150,
     "metadata": {},
     "output_type": "execute_result"
    }
   ],
   "source": [
    "dfs['beds'].quantile(0.00) "
   ]
  },
  {
   "cell_type": "code",
   "execution_count": 151,
   "id": "7a1c4a34",
   "metadata": {},
   "outputs": [
    {
     "data": {
      "text/plain": [
       "3.0"
      ]
     },
     "execution_count": 151,
     "metadata": {},
     "output_type": "execute_result"
    }
   ],
   "source": [
    "dfs['beds'].quantile(0.96)"
   ]
  },
  {
   "cell_type": "code",
   "execution_count": 152,
   "id": "2602dfdd",
   "metadata": {},
   "outputs": [],
   "source": [
    "dfs['beds'] = winsorize(dfs['beds'],(0.00, 0.04)) "
   ]
  },
  {
   "cell_type": "markdown",
   "id": "45c7b5cb",
   "metadata": {},
   "source": [
    "### Columna 'baths'"
   ]
  },
  {
   "cell_type": "code",
   "execution_count": 153,
   "id": "423ede0a",
   "metadata": {},
   "outputs": [
    {
     "data": {
      "text/plain": [
       "<AxesSubplot:xlabel='baths', ylabel='Count'>"
      ]
     },
     "execution_count": 153,
     "metadata": {},
     "output_type": "execute_result"
    },
    {
     "data": {
      "image/png": "[encoded data removed]",
      "text/plain": [
       "<Figure size 1008x288 with 2 Axes>"
      ]
     },
     "metadata": {},
     "output_type": "display_data"
    }
   ],
   "source": [
    "fig, axs = plt.subplots(1, 2,  figsize=(14, 4))\n",
    "sns.boxplot(x='baths', data=dfs, ax=axs[0])\n",
    "sns.histplot(x='baths', data=dfs, bins=20, kde=False, ax=axs[1])"
   ]
  },
  {
   "cell_type": "code",
   "execution_count": 154,
   "id": "03937196",
   "metadata": {},
   "outputs": [
    {
     "data": {
      "text/plain": [
       "False    38498\n",
       "Name: baths, dtype: int64"
      ]
     },
     "execution_count": 154,
     "metadata": {},
     "output_type": "execute_result"
    }
   ],
   "source": [
    "outliers_low = (dfs['baths'] < get_lower_limit('baths', dfs)).value_counts()\n",
    "outliers_low"
   ]
  },
  {
   "cell_type": "markdown",
   "id": "1cf98b5f",
   "metadata": {},
   "source": [
    "__Winsorización__"
   ]
  },
  {
   "cell_type": "code",
   "execution_count": 155,
   "id": "e0550321",
   "metadata": {},
   "outputs": [
    {
     "data": {
      "text/plain": [
       "-0.5"
      ]
     },
     "execution_count": 155,
     "metadata": {},
     "output_type": "execute_result"
    }
   ],
   "source": [
    "lim_inferior = get_lower_limit('baths', dfs)\n",
    "lim_inferior"
   ]
  },
  {
   "cell_type": "code",
   "execution_count": 156,
   "id": "320983fb",
   "metadata": {},
   "outputs": [],
   "source": [
    "# Redefinimos el límite inferior por ser un valor inválido\n",
    "lim_inferior = 0"
   ]
  },
  {
   "cell_type": "code",
   "execution_count": 157,
   "id": "058344ad",
   "metadata": {},
   "outputs": [
    {
     "data": {
      "text/plain": [
       "3.5"
      ]
     },
     "execution_count": 157,
     "metadata": {},
     "output_type": "execute_result"
    }
   ],
   "source": [
    "lim_superior = get_upper_limit('baths', dfs)\n",
    "lim_superior"
   ]
  },
  {
   "cell_type": "code",
   "execution_count": 158,
   "id": "73529aa1",
   "metadata": {},
   "outputs": [
    {
     "data": {
      "text/plain": [
       "0.0"
      ]
     },
     "execution_count": 158,
     "metadata": {},
     "output_type": "execute_result"
    }
   ],
   "source": [
    "dfs['baths'].quantile(0.00) "
   ]
  },
  {
   "cell_type": "code",
   "execution_count": 159,
   "id": "44345f70",
   "metadata": {},
   "outputs": [
    {
     "data": {
      "text/plain": [
       "3.0"
      ]
     },
     "execution_count": 159,
     "metadata": {},
     "output_type": "execute_result"
    }
   ],
   "source": [
    "dfs['baths'].quantile(0.99)"
   ]
  },
  {
   "cell_type": "code",
   "execution_count": 160,
   "id": "ac9e5c89",
   "metadata": {},
   "outputs": [],
   "source": [
    "dfs['baths'] = winsorize(dfs['baths'],(0.00, 0.01)) "
   ]
  },
  {
   "cell_type": "code",
   "execution_count": 161,
   "id": "0da6f0b4",
   "metadata": {},
   "outputs": [
    {
     "data": {
      "text/plain": [
       "<AxesSubplot:xlabel='baths', ylabel='Count'>"
      ]
     },
     "execution_count": 161,
     "metadata": {},
     "output_type": "execute_result"
    },
    {
     "data": {
      "image/png": "[encoded data removed]",
      "text/plain": [
       "<Figure size 1008x288 with 2 Axes>"
      ]
     },
     "metadata": {},
     "output_type": "display_data"
    }
   ],
   "source": [
    "fig, axs = plt.subplots(1, 2,  figsize=(14, 4))\n",
    "sns.boxplot(x='baths', data=dfs, ax=axs[0])\n",
    "sns.histplot(x='baths', data=dfs, bins=20, kde=False, ax=axs[1])"
   ]
  },
  {
   "cell_type": "markdown",
   "id": "7f7f82f8",
   "metadata": {},
   "source": [
    "## One-Hot Encoding"
   ]
  },
  {
   "cell_type": "code",
   "execution_count": 162,
   "id": "947f7254",
   "metadata": {},
   "outputs": [],
   "source": [
    "ohe = OneHotEncoder()          # crear un objeto OneHotEncoder\n",
    "transformed = ohe.fit_transform(dfs[['type']])  # prepara la columna mencionada"
   ]
  },
  {
   "cell_type": "code",
   "execution_count": 163,
   "id": "f0fc1721",
   "metadata": {},
   "outputs": [],
   "source": [
    "# Codifica a ceros y unos todas las categorías del campo elegido. Luego agrega las nuevas columnas al DF\n",
    "dfs[ohe.categories_[0]] = transformed.toarray() "
   ]
  },
  {
   "cell_type": "code",
   "execution_count": 164,
   "id": "9616a394",
   "metadata": {},
   "outputs": [
    {
     "data": {
      "text/html": [
       "<div>\n",
       "<style scoped>\n",
       "    .dataframe tbody tr th:only-of-type {\n",
       "        vertical-align: middle;\n",
       "    }\n",
       "\n",
       "    .dataframe tbody tr th {\n",
       "        vertical-align: top;\n",
       "    }\n",
       "\n",
       "    .dataframe thead th {\n",
       "        text-align: right;\n",
       "    }\n",
       "</style>\n",
       "<table border=\"1\" class=\"dataframe\">\n",
       "  <thead>\n",
       "    <tr style=\"text-align: right;\">\n",
       "      <th></th>\n",
       "      <th>type</th>\n",
       "      <th>sqfeet</th>\n",
       "      <th>beds</th>\n",
       "      <th>baths</th>\n",
       "      <th>dogs_allowed</th>\n",
       "      <th>smoking_allowed</th>\n",
       "      <th>wheelchair_access</th>\n",
       "      <th>electric_vehicle_charge</th>\n",
       "      <th>comes_furnished</th>\n",
       "      <th>apartment</th>\n",
       "      <th>condo</th>\n",
       "      <th>cottage_cabin</th>\n",
       "      <th>duplex</th>\n",
       "      <th>flat</th>\n",
       "      <th>house</th>\n",
       "      <th>in_law</th>\n",
       "      <th>loft</th>\n",
       "      <th>manufactured</th>\n",
       "      <th>townhouse</th>\n",
       "    </tr>\n",
       "  </thead>\n",
       "  <tbody>\n",
       "    <tr>\n",
       "      <th>0</th>\n",
       "      <td>manufactured</td>\n",
       "      <td>1344</td>\n",
       "      <td>3</td>\n",
       "      <td>2.0</td>\n",
       "      <td>0</td>\n",
       "      <td>1</td>\n",
       "      <td>0</td>\n",
       "      <td>0</td>\n",
       "      <td>0</td>\n",
       "      <td>0.0</td>\n",
       "      <td>0.0</td>\n",
       "      <td>0.0</td>\n",
       "      <td>0.0</td>\n",
       "      <td>0.0</td>\n",
       "      <td>0.0</td>\n",
       "      <td>0.0</td>\n",
       "      <td>0.0</td>\n",
       "      <td>1.0</td>\n",
       "      <td>0.0</td>\n",
       "    </tr>\n",
       "    <tr>\n",
       "      <th>1</th>\n",
       "      <td>apartment</td>\n",
       "      <td>1050</td>\n",
       "      <td>2</td>\n",
       "      <td>1.0</td>\n",
       "      <td>0</td>\n",
       "      <td>1</td>\n",
       "      <td>0</td>\n",
       "      <td>0</td>\n",
       "      <td>0</td>\n",
       "      <td>1.0</td>\n",
       "      <td>0.0</td>\n",
       "      <td>0.0</td>\n",
       "      <td>0.0</td>\n",
       "      <td>0.0</td>\n",
       "      <td>0.0</td>\n",
       "      <td>0.0</td>\n",
       "      <td>0.0</td>\n",
       "      <td>0.0</td>\n",
       "      <td>0.0</td>\n",
       "    </tr>\n",
       "    <tr>\n",
       "      <th>2</th>\n",
       "      <td>apartment</td>\n",
       "      <td>1150</td>\n",
       "      <td>2</td>\n",
       "      <td>2.0</td>\n",
       "      <td>1</td>\n",
       "      <td>1</td>\n",
       "      <td>1</td>\n",
       "      <td>0</td>\n",
       "      <td>0</td>\n",
       "      <td>1.0</td>\n",
       "      <td>0.0</td>\n",
       "      <td>0.0</td>\n",
       "      <td>0.0</td>\n",
       "      <td>0.0</td>\n",
       "      <td>0.0</td>\n",
       "      <td>0.0</td>\n",
       "      <td>0.0</td>\n",
       "      <td>0.0</td>\n",
       "      <td>0.0</td>\n",
       "    </tr>\n",
       "    <tr>\n",
       "      <th>3</th>\n",
       "      <td>apartment</td>\n",
       "      <td>1280</td>\n",
       "      <td>2</td>\n",
       "      <td>2.5</td>\n",
       "      <td>1</td>\n",
       "      <td>0</td>\n",
       "      <td>0</td>\n",
       "      <td>0</td>\n",
       "      <td>0</td>\n",
       "      <td>1.0</td>\n",
       "      <td>0.0</td>\n",
       "      <td>0.0</td>\n",
       "      <td>0.0</td>\n",
       "      <td>0.0</td>\n",
       "      <td>0.0</td>\n",
       "      <td>0.0</td>\n",
       "      <td>0.0</td>\n",
       "      <td>0.0</td>\n",
       "      <td>0.0</td>\n",
       "    </tr>\n",
       "    <tr>\n",
       "      <th>4</th>\n",
       "      <td>apartment</td>\n",
       "      <td>783</td>\n",
       "      <td>2</td>\n",
       "      <td>1.0</td>\n",
       "      <td>1</td>\n",
       "      <td>1</td>\n",
       "      <td>0</td>\n",
       "      <td>0</td>\n",
       "      <td>0</td>\n",
       "      <td>1.0</td>\n",
       "      <td>0.0</td>\n",
       "      <td>0.0</td>\n",
       "      <td>0.0</td>\n",
       "      <td>0.0</td>\n",
       "      <td>0.0</td>\n",
       "      <td>0.0</td>\n",
       "      <td>0.0</td>\n",
       "      <td>0.0</td>\n",
       "      <td>0.0</td>\n",
       "    </tr>\n",
       "  </tbody>\n",
       "</table>\n",
       "</div>"
      ],
      "text/plain": [
       "           type  sqfeet  beds  baths  dogs_allowed  smoking_allowed  \\\n",
       "0  manufactured    1344     3    2.0             0                1   \n",
       "1     apartment    1050     2    1.0             0                1   \n",
       "2     apartment    1150     2    2.0             1                1   \n",
       "3     apartment    1280     2    2.5             1                0   \n",
       "4     apartment     783     2    1.0             1                1   \n",
       "\n",
       "   wheelchair_access  electric_vehicle_charge  comes_furnished  apartment  \\\n",
       "0                  0                        0                0        0.0   \n",
       "1                  0                        0                0        1.0   \n",
       "2                  1                        0                0        1.0   \n",
       "3                  0                        0                0        1.0   \n",
       "4                  0                        0                0        1.0   \n",
       "\n",
       "   condo  cottage_cabin  duplex  flat  house  in_law  loft  manufactured  \\\n",
       "0    0.0            0.0     0.0   0.0    0.0     0.0   0.0           1.0   \n",
       "1    0.0            0.0     0.0   0.0    0.0     0.0   0.0           0.0   \n",
       "2    0.0            0.0     0.0   0.0    0.0     0.0   0.0           0.0   \n",
       "3    0.0            0.0     0.0   0.0    0.0     0.0   0.0           0.0   \n",
       "4    0.0            0.0     0.0   0.0    0.0     0.0   0.0           0.0   \n",
       "\n",
       "   townhouse  \n",
       "0        0.0  \n",
       "1        0.0  \n",
       "2        0.0  \n",
       "3        0.0  \n",
       "4        0.0  "
      ]
     },
     "execution_count": 164,
     "metadata": {},
     "output_type": "execute_result"
    }
   ],
   "source": [
    "dfs.head()"
   ]
  },
  {
   "cell_type": "code",
   "execution_count": 165,
   "id": "69e5aab6",
   "metadata": {},
   "outputs": [],
   "source": [
    "dfs.drop(columns = 'type', inplace = True)"
   ]
  },
  {
   "cell_type": "code",
   "execution_count": 166,
   "id": "5126aff2",
   "metadata": {},
   "outputs": [
    {
     "name": "stdout",
     "output_type": "stream",
     "text": [
      "target\n"
     ]
    }
   ],
   "source": [
    "for columna in dfn.columns:\n",
    "    if columna not in dfs.columns:\n",
    "        print(columna)"
   ]
  },
  {
   "cell_type": "code",
   "execution_count": 167,
   "id": "90722a01",
   "metadata": {},
   "outputs": [],
   "source": [
    "dfs['target'] = -1  # Creamos una columna con valores arbitrarios, solo para igualar la estructura del set de entrenamiento "
   ]
  },
  {
   "cell_type": "code",
   "execution_count": null,
   "id": "0a0041e1",
   "metadata": {},
   "outputs": [],
   "source": []
  },
  {
   "cell_type": "markdown",
   "id": "e6210b8a",
   "metadata": {},
   "source": [
    "## Regresión Logística"
   ]
  },
  {
   "cell_type": "code",
   "execution_count": 169,
   "id": "0bc9ae1e",
   "metadata": {},
   "outputs": [],
   "source": [
    "y_train = dfn.pop('target')\n",
    "X_train = dfn"
   ]
  },
  {
   "cell_type": "code",
   "execution_count": null,
   "id": "f8b33e6b",
   "metadata": {},
   "outputs": [],
   "source": []
  },
  {
   "cell_type": "code",
   "execution_count": 170,
   "id": "41361f0a",
   "metadata": {},
   "outputs": [],
   "source": [
    "y_test = dfs.pop('target')\n",
    "X_test = dfs"
   ]
  },
  {
   "cell_type": "code",
   "execution_count": 171,
   "id": "43e3153a",
   "metadata": {},
   "outputs": [
    {
     "data": {
      "text/plain": [
       "LogisticRegression(max_iter=300)"
      ]
     },
     "execution_count": 171,
     "metadata": {},
     "output_type": "execute_result"
    }
   ],
   "source": [
    "from sklearn.linear_model import LogisticRegression\n",
    "\n",
    "# Instanciamos el modelo y lo entrenamos\n",
    "\n",
    "logModel = LogisticRegression(max_iter = 300)\n",
    "\n",
    "# Lo entrenamos\n",
    "\n",
    "logModel.fit(X_train,y_train)"
   ]
  },
  {
   "cell_type": "code",
   "execution_count": 172,
   "id": "16fd40ea",
   "metadata": {},
   "outputs": [],
   "source": [
    "prediccion = logModel.predict(X_test)"
   ]
  },
  {
   "cell_type": "code",
   "execution_count": 173,
   "id": "6a68e640",
   "metadata": {},
   "outputs": [
    {
     "data": {
      "text/plain": [
       "numpy.ndarray"
      ]
     },
     "execution_count": 173,
     "metadata": {},
     "output_type": "execute_result"
    }
   ],
   "source": [
    "type(prediccion)   # vemos que tipo de de objeto es prediccion para poder hacer el dataframe"
   ]
  },
  {
   "cell_type": "code",
   "execution_count": 175,
   "id": "1de7cf03",
   "metadata": {},
   "outputs": [],
   "source": [
    "dfPred = pd.DataFrame(prediccion, columns = ['pred']) "
   ]
  },
  {
   "cell_type": "markdown",
   "id": "28f9c1e5",
   "metadata": {},
   "source": [
    "###  guardamos nuestra predicción en un archivo csv"
   ]
  },
  {
   "cell_type": "code",
   "execution_count": 177,
   "id": "4199ff05",
   "metadata": {},
   "outputs": [],
   "source": [
    "dfPred.to_csv('Diemale.csv', encoding='utf-8', index=None)"
   ]
  },
  {
   "cell_type": "markdown",
   "id": "127e91b4",
   "metadata": {},
   "source": [
    "## RandomForest"
   ]
  },
  {
   "cell_type": "code",
   "execution_count": 182,
   "id": "763ef36f",
   "metadata": {},
   "outputs": [],
   "source": [
    "import numpy as np"
   ]
  },
  {
   "cell_type": "code",
   "execution_count": 179,
   "id": "50fccbe8",
   "metadata": {},
   "outputs": [],
   "source": [
    "from sklearn.ensemble import RandomForestClassifier\n",
    "from sklearn.model_selection import learning_curve"
   ]
  },
  {
   "cell_type": "code",
   "execution_count": 183,
   "id": "ee8e7b71",
   "metadata": {},
   "outputs": [],
   "source": [
    "# Creamos el modelo\n",
    "clf = RandomForestClassifier(n_estimators=50, n_jobs=-1, oob_score= True, random_state = 42)\n",
    "\n",
    "train_sizes, train_scores, valid_scores = learning_curve(clf, X_train, y_train, \n",
    "                                                         train_sizes = np.linspace(0.0001,1,10),\n",
    "                                                         scoring = 'accuracy', cv=5)"
   ]
  },
  {
   "cell_type": "code",
   "execution_count": 184,
   "id": "b18b87ad",
   "metadata": {},
   "outputs": [
    {
     "data": {
      "image/png": "[encoded data removed]",
      "text/plain": [
       "<Figure size 864x432 with 1 Axes>"
      ]
     },
     "metadata": {},
     "output_type": "display_data"
    }
   ],
   "source": [
    "# Graficamos la curva de aprendizaje\n",
    "\n",
    "plt.figure(figsize = (12,6))\n",
    "plt.plot(train_sizes, train_scores.mean(axis = 1), color = 'r')\n",
    "plt.plot(train_sizes, valid_scores.mean(axis = 1), color = 'g')\n",
    "\n",
    "plt.fill_between(train_sizes, train_scores.mean(axis = 1)- train_scores.std(axis = 1),\n",
    "                     train_scores.mean(axis = 1)+ train_scores.std(axis = 1), alpha=0.25,\n",
    "                     color=\"r\")\n",
    "plt.fill_between(train_sizes, valid_scores.mean(axis = 1) - valid_scores.std(axis = 1),\n",
    "                     valid_scores.mean(axis = 1) + valid_scores.std(axis = 1), alpha=0.25, color=\"g\")\n",
    "\n",
    "plt.ylim(0.5,1.1)\n",
    "plt.legend(['Training Score','Cross-validation'])\n",
    "plt.xlabel('Training examples')\n",
    "plt.ylabel('Score')\n",
    "plt.show()"
   ]
  },
  {
   "cell_type": "code",
   "execution_count": 186,
   "id": "bb2371b2",
   "metadata": {},
   "outputs": [
    {
     "name": "stdout",
     "output_type": "stream",
     "text": [
      "acc:  0.8138985745200537\n"
     ]
    }
   ],
   "source": [
    "# lo entrenamos\n",
    "clf.fit(X_train,y_train)\n",
    "print(\"acc: \",clf.score(X_train,y_train))"
   ]
  },
  {
   "cell_type": "markdown",
   "id": "85e4c4ad",
   "metadata": {},
   "source": [
    "Nota: con 30 estimadores el accuracy obtenido fue:  0.8136142907700609.\n",
    "Podemos notar que no hay mucha diferencia con los 50 iniciales"
   ]
  },
  {
   "cell_type": "code",
   "execution_count": 187,
   "id": "e6f41a3c",
   "metadata": {},
   "outputs": [],
   "source": [
    "# crear predicción\n",
    "prediccion = clf.predict(X_test)"
   ]
  },
  {
   "cell_type": "code",
   "execution_count": 188,
   "id": "fc32128e",
   "metadata": {},
   "outputs": [],
   "source": [
    "# creamos un data frame con nuestra predicción\n",
    "dfPred = pd.DataFrame(prediccion, columns = ['pred']) "
   ]
  },
  {
   "cell_type": "code",
   "execution_count": 189,
   "id": "0ca81a5b",
   "metadata": {},
   "outputs": [],
   "source": [
    "# y lo guardamos\n",
    "dfPred.to_csv('Diemale.csv', encoding='utf-8', index=None)"
   ]
  },
  {
   "cell_type": "code",
   "execution_count": null,
   "id": "d7f5e92a",
   "metadata": {},
   "outputs": [],
   "source": []
  }
 ],
 "metadata": {
  "kernelspec": {
   "display_name": "Python 3 (ipykernel)",
   "language": "python",
   "name": "python3"
  },
  "language_info": {
   "codemirror_mode": {
    "name": "ipython",
    "version": 3
   },
   "file_extension": ".py",
   "mimetype": "text/x-python",
   "name": "python",
   "nbconvert_exporter": "python",
   "pygments_lexer": "ipython3",
   "version": "3.9.12"
  }
 },
 "nbformat": 4,
 "nbformat_minor": 5
}
